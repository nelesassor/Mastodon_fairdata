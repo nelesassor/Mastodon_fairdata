{
 "cells": [
  {
   "cell_type": "markdown",
   "id": "06a89ed8",
   "metadata": {},
   "source": [
    "<h1>BERT Text-Classification of SocialMedia posts about Fairdata<h1>"
   ]
  },
  {
   "cell_type": "markdown",
   "id": "ec3e11d8",
   "metadata": {},
   "source": [
    "<h2>Imports / External Libraries<h2>"
   ]
  },
  {
   "cell_type": "code",
   "execution_count": 5,
   "id": "28575db1",
   "metadata": {},
   "outputs": [],
   "source": [
    "import pandas as pd\n",
    "import re\n",
    "import os\n",
    "import torch\n",
    "import torch.nn as nn\n",
    "import numpy as np\n",
    "import shutil\n",
    "import sys   \n",
    "import string\n",
    "import matplotlib.pyplot as plt\n",
    "from nltk.corpus import stopwords\n",
    "from bs4 import BeautifulSoup\n",
    "from torch.utils.data import DataLoader\n",
    "from sklearn import metrics\n",
    "from transformers import BertModel\n",
    "from transformers import BertTokenizer\n",
    "from torch.utils.data import Dataset\n",
    "from langdetect import detect"
   ]
  },
  {
   "cell_type": "markdown",
   "id": "5f7196ba",
   "metadata": {},
   "source": [
    "<h2>Daten einlesen<h2>"
   ]
  },
  {
   "cell_type": "code",
   "execution_count": 6,
   "id": "70ce3572",
   "metadata": {},
   "outputs": [],
   "source": [
    "path='../data'\n",
    "df_manuell = pd.read_excel('../data/manuell_kategorisiert/pyhon_tweets_fairdata_Kategorisierung_ManuellExcel.xlsx')\n",
    "df_manuell.columns = ['Data', 'ID', 'Content', 'Kategorisierung', 'Username', 'LikeCount', 'RetweetCount']"
   ]
  },
  {
   "cell_type": "code",
   "execution_count": 7,
   "id": "a8b213fe",
   "metadata": {},
   "outputs": [
    {
     "data": {
      "text/html": [
       "<div>\n",
       "<style scoped>\n",
       "    .dataframe tbody tr th:only-of-type {\n",
       "        vertical-align: middle;\n",
       "    }\n",
       "\n",
       "    .dataframe tbody tr th {\n",
       "        vertical-align: top;\n",
       "    }\n",
       "\n",
       "    .dataframe thead th {\n",
       "        text-align: right;\n",
       "    }\n",
       "</style>\n",
       "<table border=\"1\" class=\"dataframe\">\n",
       "  <thead>\n",
       "    <tr style=\"text-align: right;\">\n",
       "      <th></th>\n",
       "      <th>Data</th>\n",
       "      <th>ID</th>\n",
       "      <th>Content</th>\n",
       "      <th>Kategorisierung</th>\n",
       "      <th>Username</th>\n",
       "      <th>LikeCount</th>\n",
       "      <th>RetweetCount</th>\n",
       "    </tr>\n",
       "  </thead>\n",
       "  <tbody>\n",
       "    <tr>\n",
       "      <th>0</th>\n",
       "      <td>Data</td>\n",
       "      <td>ID</td>\n",
       "      <td>Content</td>\n",
       "      <td>Kategorisierung</td>\n",
       "      <td>Username</td>\n",
       "      <td>LikeCount</td>\n",
       "      <td>RetweetCount</td>\n",
       "    </tr>\n",
       "    <tr>\n",
       "      <th>1</th>\n",
       "      <td>2023-03-28 10:54:07+00:00</td>\n",
       "      <td>1640668586736795649</td>\n",
       "      <td>@wilhwid @BBMRIERIC @ilireh @ECRIN_ERIC @tugra...</td>\n",
       "      <td>Meinung</td>\n",
       "      <td>eoscassociation</td>\n",
       "      <td>0</td>\n",
       "      <td>1</td>\n",
       "    </tr>\n",
       "    <tr>\n",
       "      <th>2</th>\n",
       "      <td>2023-03-28 10:52:12+00:00</td>\n",
       "      <td>1640668101200027648</td>\n",
       "      <td>I spent this morning with @EeroRinne and the s...</td>\n",
       "      <td>Veranstaltung</td>\n",
       "      <td>LukeDataManager</td>\n",
       "      <td>0</td>\n",
       "      <td>0</td>\n",
       "    </tr>\n",
       "    <tr>\n",
       "      <th>3</th>\n",
       "      <td>2023-03-28 10:37:03+00:00</td>\n",
       "      <td>1640664290452447237</td>\n",
       "      <td>The first panel at today's #EOSCTripartite eve...</td>\n",
       "      <td>Veranstaltung</td>\n",
       "      <td>eoscassociation</td>\n",
       "      <td>6</td>\n",
       "      <td>2</td>\n",
       "    </tr>\n",
       "    <tr>\n",
       "      <th>4</th>\n",
       "      <td>2023-03-28 10:00:53+00:00</td>\n",
       "      <td>1640655186694643712</td>\n",
       "      <td>💰That's right! We will provide financial suppo...</td>\n",
       "      <td>Initiative</td>\n",
       "      <td>fairimpact_eu</td>\n",
       "      <td>7</td>\n",
       "      <td>7</td>\n",
       "    </tr>\n",
       "    <tr>\n",
       "      <th>5</th>\n",
       "      <td>2023-03-28 09:48:14+00:00</td>\n",
       "      <td>1640652006120386560</td>\n",
       "      <td>The first main recommendation from the studyin...</td>\n",
       "      <td>Veranstaltung, Publikation</td>\n",
       "      <td>Janete_Estevao</td>\n",
       "      <td>2</td>\n",
       "      <td>1</td>\n",
       "    </tr>\n",
       "    <tr>\n",
       "      <th>6</th>\n",
       "      <td>2023-03-28 08:09:00+00:00</td>\n",
       "      <td>1640627030982115329</td>\n",
       "      <td>✨Today: Free @MetaCell webinar!✨\\n\\n📅 Mar 28, ...</td>\n",
       "      <td>Veranstaltung</td>\n",
       "      <td>INCForg</td>\n",
       "      <td>1</td>\n",
       "      <td>0</td>\n",
       "    </tr>\n",
       "    <tr>\n",
       "      <th>7</th>\n",
       "      <td>2023-03-28 07:55:57+00:00</td>\n",
       "      <td>1640623747739598849</td>\n",
       "      <td>Come and visit us and #DAPHNE4NFDI at our boot...</td>\n",
       "      <td>Veranstaltung</td>\n",
       "      <td>FAIRmat_NFDI</td>\n",
       "      <td>4</td>\n",
       "      <td>0</td>\n",
       "    </tr>\n",
       "    <tr>\n",
       "      <th>8</th>\n",
       "      <td>2023-03-28 07:55:51+00:00</td>\n",
       "      <td>1640623721592258561</td>\n",
       "      <td>#EOSC is an overarching system that supports r...</td>\n",
       "      <td>Publikation</td>\n",
       "      <td>eoscassociation</td>\n",
       "      <td>1</td>\n",
       "      <td>0</td>\n",
       "    </tr>\n",
       "    <tr>\n",
       "      <th>9</th>\n",
       "      <td>2023-03-28 07:55:49+00:00</td>\n",
       "      <td>1640623716253024256</td>\n",
       "      <td>EOSC Steering Board for Italy Giorgio Rossi pr...</td>\n",
       "      <td>Veranstaltung</td>\n",
       "      <td>eoscassociation</td>\n",
       "      <td>2</td>\n",
       "      <td>0</td>\n",
       "    </tr>\n",
       "  </tbody>\n",
       "</table>\n",
       "</div>"
      ],
      "text/plain": [
       "                        Data                   ID  \\\n",
       "0                       Data                   ID   \n",
       "1  2023-03-28 10:54:07+00:00  1640668586736795649   \n",
       "2  2023-03-28 10:52:12+00:00  1640668101200027648   \n",
       "3  2023-03-28 10:37:03+00:00  1640664290452447237   \n",
       "4  2023-03-28 10:00:53+00:00  1640655186694643712   \n",
       "5  2023-03-28 09:48:14+00:00  1640652006120386560   \n",
       "6  2023-03-28 08:09:00+00:00  1640627030982115329   \n",
       "7  2023-03-28 07:55:57+00:00  1640623747739598849   \n",
       "8  2023-03-28 07:55:51+00:00  1640623721592258561   \n",
       "9  2023-03-28 07:55:49+00:00  1640623716253024256   \n",
       "\n",
       "                                             Content  \\\n",
       "0                                            Content   \n",
       "1  @wilhwid @BBMRIERIC @ilireh @ECRIN_ERIC @tugra...   \n",
       "2  I spent this morning with @EeroRinne and the s...   \n",
       "3  The first panel at today's #EOSCTripartite eve...   \n",
       "4  💰That's right! We will provide financial suppo...   \n",
       "5  The first main recommendation from the studyin...   \n",
       "6  ✨Today: Free @MetaCell webinar!✨\\n\\n📅 Mar 28, ...   \n",
       "7  Come and visit us and #DAPHNE4NFDI at our boot...   \n",
       "8  #EOSC is an overarching system that supports r...   \n",
       "9  EOSC Steering Board for Italy Giorgio Rossi pr...   \n",
       "\n",
       "               Kategorisierung         Username  LikeCount  RetweetCount  \n",
       "0              Kategorisierung         Username  LikeCount  RetweetCount  \n",
       "1                     Meinung   eoscassociation          0             1  \n",
       "2                Veranstaltung  LukeDataManager          0             0  \n",
       "3                Veranstaltung  eoscassociation          6             2  \n",
       "4                   Initiative    fairimpact_eu          7             7  \n",
       "5  Veranstaltung, Publikation    Janete_Estevao          2             1  \n",
       "6                Veranstaltung          INCForg          1             0  \n",
       "7                Veranstaltung     FAIRmat_NFDI          4             0  \n",
       "8                  Publikation  eoscassociation          1             0  \n",
       "9                Veranstaltung  eoscassociation          2             0  "
      ]
     },
     "execution_count": 7,
     "metadata": {},
     "output_type": "execute_result"
    }
   ],
   "source": [
    "df_manuell.head(10)"
   ]
  },
  {
   "cell_type": "code",
   "execution_count": 8,
   "id": "c62f69e4",
   "metadata": {},
   "outputs": [
    {
     "data": {
      "image/png": "[encoded data removed]",
      "text/plain": [
       "<Figure size 640x480 with 1 Axes>"
      ]
     },
     "metadata": {},
     "output_type": "display_data"
    }
   ],
   "source": [
    "df_manuell = df_manuell[1:]  # Überspringen Sie die erste Zeile, die Spaltennamen enthält\n",
    "df_manuell['Kategorisierung'] = df_manuell['Kategorisierung'].replace('Meinung ', 'Meinung')\n",
    "\n",
    "category_counts = df_manuell['Kategorisierung'].value_counts()\n",
    "\n",
    "category_counts.plot(kind='bar')\n",
    "plt.xlabel('Kategorisierung')\n",
    "plt.ylabel('Anzahl')\n",
    "plt.title('Häufigkeit der Kategorisierung')\n",
    "plt.axhline(y=20, color='steelblue', linestyle='--')  # Draw a dashed red line at y=20\n",
    "plt.axhline(y=40, color='steelblue', linestyle='--')  # Draw a dashed green line at y=40\n",
    "plt.tight_layout()\n",
    "plt.savefig('../results/kategorisierung_plot.png', dpi=1000)\n",
    "plt.show()\n"
   ]
  },
  {
   "cell_type": "markdown",
   "id": "e9d3cd0e",
   "metadata": {},
   "source": [
    "Die bereits manuell kategorisierten Tweets im DF speichern"
   ]
  },
  {
   "cell_type": "code",
   "execution_count": 9,
   "id": "ed47959f",
   "metadata": {},
   "outputs": [
    {
     "data": {
      "text/html": [
       "<div>\n",
       "<style scoped>\n",
       "    .dataframe tbody tr th:only-of-type {\n",
       "        vertical-align: middle;\n",
       "    }\n",
       "\n",
       "    .dataframe tbody tr th {\n",
       "        vertical-align: top;\n",
       "    }\n",
       "\n",
       "    .dataframe thead th {\n",
       "        text-align: right;\n",
       "    }\n",
       "</style>\n",
       "<table border=\"1\" class=\"dataframe\">\n",
       "  <thead>\n",
       "    <tr style=\"text-align: right;\">\n",
       "      <th></th>\n",
       "      <th>Data</th>\n",
       "      <th>ID</th>\n",
       "      <th>Content</th>\n",
       "      <th>Kategorisierung</th>\n",
       "      <th>Username</th>\n",
       "      <th>LikeCount</th>\n",
       "      <th>RetweetCount</th>\n",
       "    </tr>\n",
       "  </thead>\n",
       "  <tbody>\n",
       "    <tr>\n",
       "      <th>2</th>\n",
       "      <td>2023-03-28 10:52:12+00:00</td>\n",
       "      <td>1640668101200027648</td>\n",
       "      <td>I spent this morning with @EeroRinne and the s...</td>\n",
       "      <td>Veranstaltung</td>\n",
       "      <td>LukeDataManager</td>\n",
       "      <td>0</td>\n",
       "      <td>0</td>\n",
       "    </tr>\n",
       "    <tr>\n",
       "      <th>3</th>\n",
       "      <td>2023-03-28 10:37:03+00:00</td>\n",
       "      <td>1640664290452447237</td>\n",
       "      <td>The first panel at today's #EOSCTripartite eve...</td>\n",
       "      <td>Veranstaltung</td>\n",
       "      <td>eoscassociation</td>\n",
       "      <td>6</td>\n",
       "      <td>2</td>\n",
       "    </tr>\n",
       "    <tr>\n",
       "      <th>4</th>\n",
       "      <td>2023-03-28 10:00:53+00:00</td>\n",
       "      <td>1640655186694643712</td>\n",
       "      <td>💰That's right! We will provide financial suppo...</td>\n",
       "      <td>Initiative</td>\n",
       "      <td>fairimpact_eu</td>\n",
       "      <td>7</td>\n",
       "      <td>7</td>\n",
       "    </tr>\n",
       "    <tr>\n",
       "      <th>5</th>\n",
       "      <td>2023-03-28 09:48:14+00:00</td>\n",
       "      <td>1640652006120386560</td>\n",
       "      <td>The first main recommendation from the studyin...</td>\n",
       "      <td>Veranstaltung, Publikation</td>\n",
       "      <td>Janete_Estevao</td>\n",
       "      <td>2</td>\n",
       "      <td>1</td>\n",
       "    </tr>\n",
       "    <tr>\n",
       "      <th>6</th>\n",
       "      <td>2023-03-28 08:09:00+00:00</td>\n",
       "      <td>1640627030982115329</td>\n",
       "      <td>✨Today: Free @MetaCell webinar!✨\\n\\n📅 Mar 28, ...</td>\n",
       "      <td>Veranstaltung</td>\n",
       "      <td>INCForg</td>\n",
       "      <td>1</td>\n",
       "      <td>0</td>\n",
       "    </tr>\n",
       "  </tbody>\n",
       "</table>\n",
       "</div>"
      ],
      "text/plain": [
       "                        Data                   ID  \\\n",
       "2  2023-03-28 10:52:12+00:00  1640668101200027648   \n",
       "3  2023-03-28 10:37:03+00:00  1640664290452447237   \n",
       "4  2023-03-28 10:00:53+00:00  1640655186694643712   \n",
       "5  2023-03-28 09:48:14+00:00  1640652006120386560   \n",
       "6  2023-03-28 08:09:00+00:00  1640627030982115329   \n",
       "\n",
       "                                             Content  \\\n",
       "2  I spent this morning with @EeroRinne and the s...   \n",
       "3  The first panel at today's #EOSCTripartite eve...   \n",
       "4  💰That's right! We will provide financial suppo...   \n",
       "5  The first main recommendation from the studyin...   \n",
       "6  ✨Today: Free @MetaCell webinar!✨\\n\\n📅 Mar 28, ...   \n",
       "\n",
       "               Kategorisierung         Username LikeCount RetweetCount  \n",
       "2                Veranstaltung  LukeDataManager         0            0  \n",
       "3                Veranstaltung  eoscassociation         6            2  \n",
       "4                   Initiative    fairimpact_eu         7            7  \n",
       "5  Veranstaltung, Publikation    Janete_Estevao         2            1  \n",
       "6                Veranstaltung          INCForg         1            0  "
      ]
     },
     "execution_count": 9,
     "metadata": {},
     "output_type": "execute_result"
    }
   ],
   "source": [
    "df1 = df_manuell.iloc[1:]\n",
    "df1 = df1[df1['Kategorisierung'].notna()]\n",
    "df1.head()"
   ]
  },
  {
   "cell_type": "markdown",
   "id": "e4a9408c",
   "metadata": {},
   "source": [
    "<h2>Preprocess<h2>"
   ]
  },
  {
   "cell_type": "markdown",
   "id": "54053f03",
   "metadata": {},
   "source": [
    "Mögliche Leerzeichen aus den Labels entfernen und Labels wie Dataset, Job, Initiative als Divers speichern"
   ]
  },
  {
   "cell_type": "code",
   "execution_count": 10,
   "id": "2a81f029",
   "metadata": {},
   "outputs": [],
   "source": [
    "df1.loc[df1['Kategorisierung'] == 'Veranstaltung, Publikation ', 'Kategorisierung'] = 'Veranstaltung'\n",
    "df1['Kategorisierung'] = df1['Kategorisierung'].replace('Meinung ', 'Meinung')\n",
    "df1.loc[df1['Kategorisierung'] == 'Dataset', 'Kategorisierung'] = 'Divers'\n",
    "df1.loc[df1['Kategorisierung'] == 'Job', 'Kategorisierung'] = 'Divers'\n",
    "df1.loc[df1['Kategorisierung'] == 'Initiative', 'Kategorisierung'] = 'Divers'\n",
    "\n",
    "df1 = df1[df1['Kategorisierung'] != 'Divers']"
   ]
  },
  {
   "cell_type": "code",
   "execution_count": 11,
   "id": "0ddb67e3",
   "metadata": {},
   "outputs": [
    {
     "data": {
      "text/plain": [
       "(197, 7)"
      ]
     },
     "execution_count": 11,
     "metadata": {},
     "output_type": "execute_result"
    }
   ],
   "source": [
    "df1.head()\n",
    "df1.shape"
   ]
  },
  {
   "cell_type": "code",
   "execution_count": 12,
   "id": "709257d5",
   "metadata": {},
   "outputs": [
    {
     "data": {
      "image/png": "[encoded data removed]",
      "text/plain": [
       "<Figure size 640x480 with 1 Axes>"
      ]
     },
     "metadata": {},
     "output_type": "display_data"
    }
   ],
   "source": [
    "df1 = df1[1:]  # Überspringen Sie die erste Zeile, die Spaltennamen enthält\n",
    "\n",
    "category_counts = df1['Kategorisierung'].value_counts()\n",
    "\n",
    "category_counts.plot(kind='bar')\n",
    "plt.xlabel('Kategorisierung')\n",
    "plt.ylabel('Anzahl')\n",
    "plt.title('Häufigkeit der Kategorisierung')\n",
    "plt.axhline(y=20, color='steelblue', linestyle='--')  # Draw a dashed red line at y=20\n",
    "plt.axhline(y=40, color='steelblue', linestyle='--')  # Draw a dashed green line at y=40\n",
    "plt.tight_layout()\n",
    "plt.savefig('../results/kategorisierung_plot_divers.png', dpi=1000)\n",
    "plt.show()"
   ]
  },
  {
   "cell_type": "markdown",
   "id": "2c1f6eec",
   "metadata": {},
   "source": [
    "<h2>preprocess text funciton <h2>"
   ]
  },
  {
   "cell_type": "code",
   "execution_count": 13,
   "id": "cd18d0ef",
   "metadata": {},
   "outputs": [],
   "source": [
    "#%load_ext\n",
    "#%autoreload 2\n",
    "def pre_process(text):\n",
    "\n",
    "  text = BeautifulSoup(text).get_text()\n",
    "  \n",
    "  # fetch alphabetic characters\n",
    "  text = re.sub(\"[^a-zA-Z]\", \" \", text)\n",
    "\n",
    "  # convert text to lower case\n",
    "  text = text.lower()\n",
    "\n",
    "  # split text into tokens to remove whitespaces\n",
    "  tokens = text.split()\n",
    "\n",
    "  return \" \".join(tokens)"
   ]
  },
  {
   "cell_type": "markdown",
   "id": "b91df4d3",
   "metadata": {},
   "source": [
    "## Filter out non English posts"
   ]
  },
  {
   "cell_type": "code",
   "execution_count": 14,
   "id": "4f735537",
   "metadata": {},
   "outputs": [],
   "source": [
    "def filter_non_english_tweets(dataframe, lang='en'):\n",
    "    filtered_df = dataframe[dataframe['Clean_Content'].apply(lambda x: detect(x) == lang)]\n",
    "    return filtered_df"
   ]
  },
  {
   "cell_type": "markdown",
   "id": "531e1550",
   "metadata": {},
   "source": [
    "<h2>Text Preprocessing auf DF anwenden<h2>"
   ]
  },
  {
   "cell_type": "code",
   "execution_count": 15,
   "id": "3a737742",
   "metadata": {},
   "outputs": [
    {
     "name": "stdout",
     "output_type": "stream",
     "text": [
      "Content before Preprocessing:\n",
      "\n",
      "Workshop, ‘The WorldFAIR Project’s cross-domain interoperability framework’, 20 March: slides and recording now available\n",
      "https://t.co/DFBr1YNLVh\n",
      "#codata #FAIRdata #OpenScience #datascience #opendata https://t.co/DSOhKfCZgh\n",
      "Content after Preprocessing:\n",
      " \n",
      "workshop the worldfair project s cross domain interoperability framework march slides and recording now available https t co dfbr ynlvh codata fairdata openscience datascience opendata https t co dsohkfczgh\n"
     ]
    },
    {
     "name": "stderr",
     "output_type": "stream",
     "text": [
      "/Users/nelesassor/anaconda3/lib/python3.10/site-packages/bs4/__init__.py:435: MarkupResemblesLocatorWarning: The input looks more like a filename than markup. You may want to open this file and pass the filehandle into Beautiful Soup.\n",
      "  warnings.warn(\n"
     ]
    }
   ],
   "source": [
    "df1['Clean_Content'] = df1['Content'].apply(pre_process)\n",
    "df1.shape\n",
    "\n",
    "print(\"Content before Preprocessing:\")\n",
    "print(\"\")\n",
    "print(df1.loc[10, 'Content'])\n",
    "print(\"Content after Preprocessing:\")\n",
    "print(\" \")\n",
    "print(df1.loc[10, 'Clean_Content'])\n"
   ]
  },
  {
   "cell_type": "code",
   "execution_count": 16,
   "id": "a5d6dc20",
   "metadata": {},
   "outputs": [
    {
     "name": "stdout",
     "output_type": "stream",
     "text": [
      "Content before Preprocessing:\n",
      "\n",
      "#NewSpecies!\n",
      "New bush-cricket from Brazil just crawled in:\n",
      "\n",
      "Listroscelis cyanotibiatus\n",
      "\n",
      "Treatment: https://t.co/8QMYD7hAZW\n",
      "Publication: https://t.co/E7PUoLxNhU\n",
      "@Zootaxa @insect_otd @CSE_at_FSCA @RoyEntSoc @OrthopteraCH\n",
      "\n",
      "#FAIRdata #nature #Biodiversity #conservation #entomology https://t.co/oPNZ1Oy8hW\n",
      "\n",
      "Content after Preprocessing:\n",
      " \n",
      "newspecies new bush cricket from brazil just crawled in listroscelis cyanotibiatus treatment https t co qmyd hazw publication https t co e puolxnhu zootaxa insect otd cse at fsca royentsoc orthopterach fairdata nature biodiversity conservation entomology https t co opnz oy hw\n"
     ]
    }
   ],
   "source": [
    "print(\"Content before Preprocessing:\")\n",
    "print(\"\")\n",
    "print(df1.loc[11, 'Content'])\n",
    "print(\"\")\n",
    "print(\"Content after Preprocessing:\")\n",
    "print(\" \")\n",
    "print(df1.loc[11, 'Clean_Content'])"
   ]
  },
  {
   "cell_type": "code",
   "execution_count": 18,
   "id": "0638cb90",
   "metadata": {},
   "outputs": [
    {
     "data": {
      "text/plain": [
       "(181, 8)"
      ]
     },
     "execution_count": 18,
     "metadata": {},
     "output_type": "execute_result"
    }
   ],
   "source": [
    "df1 = filter_non_english_tweets(df1, lang='en')\n",
    "df1.shape"
   ]
  },
  {
   "cell_type": "markdown",
   "id": "d3ce565d",
   "metadata": {},
   "source": [
    "Merge Kategorisierung und Content into one dataframe"
   ]
  },
  {
   "cell_type": "code",
   "execution_count": 19,
   "id": "3300e2af",
   "metadata": {},
   "outputs": [
    {
     "data": {
      "text/html": [
       "<div>\n",
       "<style scoped>\n",
       "    .dataframe tbody tr th:only-of-type {\n",
       "        vertical-align: middle;\n",
       "    }\n",
       "\n",
       "    .dataframe tbody tr th {\n",
       "        vertical-align: top;\n",
       "    }\n",
       "\n",
       "    .dataframe thead th {\n",
       "        text-align: right;\n",
       "    }\n",
       "</style>\n",
       "<table border=\"1\" class=\"dataframe\">\n",
       "  <thead>\n",
       "    <tr style=\"text-align: right;\">\n",
       "      <th></th>\n",
       "      <th>Clean_Content</th>\n",
       "      <th>Kategorisierung</th>\n",
       "    </tr>\n",
       "  </thead>\n",
       "  <tbody>\n",
       "    <tr>\n",
       "      <th>220</th>\n",
       "      <td>the agentproject train the trainer team teache...</td>\n",
       "      <td>Veranstaltung</td>\n",
       "    </tr>\n",
       "    <tr>\n",
       "      <th>221</th>\n",
       "      <td>just published emily rayfield pamela gill laut...</td>\n",
       "      <td>Publikation</td>\n",
       "    </tr>\n",
       "    <tr>\n",
       "      <th>222</th>\n",
       "      <td>just published controlled rachael gooberman hi...</td>\n",
       "      <td>Publikation</td>\n",
       "    </tr>\n",
       "    <tr>\n",
       "      <th>223</th>\n",
       "      <td>the cicompass fair findable accessible interop...</td>\n",
       "      <td>Meinung</td>\n",
       "    </tr>\n",
       "    <tr>\n",
       "      <th>224</th>\n",
       "      <td>a short video about our brand new dataset sear...</td>\n",
       "      <td>Meinung</td>\n",
       "    </tr>\n",
       "  </tbody>\n",
       "</table>\n",
       "</div>"
      ],
      "text/plain": [
       "                                         Clean_Content Kategorisierung\n",
       "220  the agentproject train the trainer team teache...   Veranstaltung\n",
       "221  just published emily rayfield pamela gill laut...     Publikation\n",
       "222  just published controlled rachael gooberman hi...     Publikation\n",
       "223  the cicompass fair findable accessible interop...         Meinung\n",
       "224  a short video about our brand new dataset sear...         Meinung"
      ]
     },
     "execution_count": 19,
     "metadata": {},
     "output_type": "execute_result"
    }
   ],
   "source": [
    "\n",
    "newdf = df1.loc[:,['Clean_Content','Kategorisierung']]\n",
    "\n",
    "test_dataset = newdf[170:]\n",
    "test_dataset.head()"
   ]
  },
  {
   "cell_type": "markdown",
   "id": "d3e90420",
   "metadata": {},
   "source": [
    "Einteilen in x und y und DF verkleinern und restlichen Beispiele für Testing und Validierung verwenden"
   ]
  },
  {
   "cell_type": "code",
   "execution_count": 20,
   "id": "5833ae47",
   "metadata": {},
   "outputs": [
    {
     "data": {
      "text/plain": [
       "(170, 2)"
      ]
     },
     "execution_count": 20,
     "metadata": {},
     "output_type": "execute_result"
    }
   ],
   "source": [
    "y = newdf['Kategorisierung']\n",
    "x = newdf['Clean_Content']\n",
    "\n",
    "newdf = newdf[:170]\n",
    "newdf.shape"
   ]
  },
  {
   "cell_type": "code",
   "execution_count": 21,
   "id": "bb4fd583",
   "metadata": {},
   "outputs": [
    {
     "data": {
      "text/html": [
       "<div>\n",
       "<style scoped>\n",
       "    .dataframe tbody tr th:only-of-type {\n",
       "        vertical-align: middle;\n",
       "    }\n",
       "\n",
       "    .dataframe tbody tr th {\n",
       "        vertical-align: top;\n",
       "    }\n",
       "\n",
       "    .dataframe thead th {\n",
       "        text-align: right;\n",
       "    }\n",
       "</style>\n",
       "<table border=\"1\" class=\"dataframe\">\n",
       "  <thead>\n",
       "    <tr style=\"text-align: right;\">\n",
       "      <th></th>\n",
       "      <th>Clean_Content</th>\n",
       "      <th>Kategorisierung</th>\n",
       "    </tr>\n",
       "  </thead>\n",
       "  <tbody>\n",
       "    <tr>\n",
       "      <th>220</th>\n",
       "      <td>the agentproject train the trainer team teache...</td>\n",
       "      <td>Veranstaltung</td>\n",
       "    </tr>\n",
       "    <tr>\n",
       "      <th>221</th>\n",
       "      <td>just published emily rayfield pamela gill laut...</td>\n",
       "      <td>Publikation</td>\n",
       "    </tr>\n",
       "    <tr>\n",
       "      <th>222</th>\n",
       "      <td>just published controlled rachael gooberman hi...</td>\n",
       "      <td>Publikation</td>\n",
       "    </tr>\n",
       "    <tr>\n",
       "      <th>223</th>\n",
       "      <td>the cicompass fair findable accessible interop...</td>\n",
       "      <td>Meinung</td>\n",
       "    </tr>\n",
       "    <tr>\n",
       "      <th>224</th>\n",
       "      <td>a short video about our brand new dataset sear...</td>\n",
       "      <td>Meinung</td>\n",
       "    </tr>\n",
       "  </tbody>\n",
       "</table>\n",
       "</div>"
      ],
      "text/plain": [
       "                                         Clean_Content Kategorisierung\n",
       "220  the agentproject train the trainer team teache...   Veranstaltung\n",
       "221  just published emily rayfield pamela gill laut...     Publikation\n",
       "222  just published controlled rachael gooberman hi...     Publikation\n",
       "223  the cicompass fair findable accessible interop...         Meinung\n",
       "224  a short video about our brand new dataset sear...         Meinung"
      ]
     },
     "execution_count": 21,
     "metadata": {},
     "output_type": "execute_result"
    }
   ],
   "source": [
    "len(newdf['Kategorisierung'].unique())\n",
    "\n",
    "test_dataset.head()"
   ]
  },
  {
   "cell_type": "code",
   "execution_count": 22,
   "id": "32d7b5e9",
   "metadata": {},
   "outputs": [],
   "source": [
    "target_list = ['Meinung','Publikation', 'Veranstaltung']"
   ]
  },
  {
   "cell_type": "markdown",
   "id": "bc20966d",
   "metadata": {},
   "source": [
    "<h2>One Hot Encodign der Labels <h2>"
   ]
  },
  {
   "cell_type": "code",
   "execution_count": 23,
   "id": "1ad30293",
   "metadata": {},
   "outputs": [],
   "source": [
    "# Führe One-Hot-Encoding durch\n",
    "one_hot_encoded = pd.get_dummies(newdf['Kategorisierung'])\n"
   ]
  },
  {
   "cell_type": "code",
   "execution_count": 24,
   "id": "62253003",
   "metadata": {},
   "outputs": [],
   "source": [
    "ohe_df = pd.concat([newdf, one_hot_encoded], axis=1)\n"
   ]
  },
  {
   "cell_type": "code",
   "execution_count": 25,
   "id": "e79693d6",
   "metadata": {},
   "outputs": [
    {
     "data": {
      "text/html": [
       "<div>\n",
       "<style scoped>\n",
       "    .dataframe tbody tr th:only-of-type {\n",
       "        vertical-align: middle;\n",
       "    }\n",
       "\n",
       "    .dataframe tbody tr th {\n",
       "        vertical-align: top;\n",
       "    }\n",
       "\n",
       "    .dataframe thead th {\n",
       "        text-align: right;\n",
       "    }\n",
       "</style>\n",
       "<table border=\"1\" class=\"dataframe\">\n",
       "  <thead>\n",
       "    <tr style=\"text-align: right;\">\n",
       "      <th></th>\n",
       "      <th>Clean_Content</th>\n",
       "      <th>Meinung</th>\n",
       "      <th>Publikation</th>\n",
       "      <th>Veranstaltung</th>\n",
       "    </tr>\n",
       "  </thead>\n",
       "  <tbody>\n",
       "    <tr>\n",
       "      <th>3</th>\n",
       "      <td>the first panel at today s eosctripartite even...</td>\n",
       "      <td>0</td>\n",
       "      <td>0</td>\n",
       "      <td>1</td>\n",
       "    </tr>\n",
       "    <tr>\n",
       "      <th>5</th>\n",
       "      <td>the first main recommendation from the studyin...</td>\n",
       "      <td>0</td>\n",
       "      <td>0</td>\n",
       "      <td>1</td>\n",
       "    </tr>\n",
       "    <tr>\n",
       "      <th>6</th>\n",
       "      <td>today free metacell webinar mar pm edt for res...</td>\n",
       "      <td>0</td>\n",
       "      <td>0</td>\n",
       "      <td>1</td>\n",
       "    </tr>\n",
       "    <tr>\n",
       "      <th>7</th>\n",
       "      <td>come and visit us and daphne nfdi at our booth...</td>\n",
       "      <td>0</td>\n",
       "      <td>0</td>\n",
       "      <td>1</td>\n",
       "    </tr>\n",
       "    <tr>\n",
       "      <th>8</th>\n",
       "      <td>eosc is an overarching system that supports re...</td>\n",
       "      <td>0</td>\n",
       "      <td>1</td>\n",
       "      <td>0</td>\n",
       "    </tr>\n",
       "  </tbody>\n",
       "</table>\n",
       "</div>"
      ],
      "text/plain": [
       "                                       Clean_Content  Meinung  Publikation  \\\n",
       "3  the first panel at today s eosctripartite even...        0            0   \n",
       "5  the first main recommendation from the studyin...        0            0   \n",
       "6  today free metacell webinar mar pm edt for res...        0            0   \n",
       "7  come and visit us and daphne nfdi at our booth...        0            0   \n",
       "8  eosc is an overarching system that supports re...        0            1   \n",
       "\n",
       "   Veranstaltung  \n",
       "3              1  \n",
       "5              1  \n",
       "6              1  \n",
       "7              1  \n",
       "8              0  "
      ]
     },
     "execution_count": 25,
     "metadata": {},
     "output_type": "execute_result"
    }
   ],
   "source": [
    "ohe_df = ohe_df.drop('Kategorisierung', axis=1)\n",
    "ohe_df.head()\n"
   ]
  },
  {
   "cell_type": "code",
   "execution_count": 26,
   "id": "0450327a",
   "metadata": {},
   "outputs": [
    {
     "data": {
      "text/html": [
       "<div>\n",
       "<style scoped>\n",
       "    .dataframe tbody tr th:only-of-type {\n",
       "        vertical-align: middle;\n",
       "    }\n",
       "\n",
       "    .dataframe tbody tr th {\n",
       "        vertical-align: top;\n",
       "    }\n",
       "\n",
       "    .dataframe thead th {\n",
       "        text-align: right;\n",
       "    }\n",
       "</style>\n",
       "<table border=\"1\" class=\"dataframe\">\n",
       "  <thead>\n",
       "    <tr style=\"text-align: right;\">\n",
       "      <th></th>\n",
       "      <th>Clean_Content</th>\n",
       "      <th>Label</th>\n",
       "    </tr>\n",
       "  </thead>\n",
       "  <tbody>\n",
       "    <tr>\n",
       "      <th>3</th>\n",
       "      <td>the first panel at today s eosctripartite even...</td>\n",
       "      <td>[0, 0, 1]</td>\n",
       "    </tr>\n",
       "    <tr>\n",
       "      <th>5</th>\n",
       "      <td>the first main recommendation from the studyin...</td>\n",
       "      <td>[0, 0, 1]</td>\n",
       "    </tr>\n",
       "    <tr>\n",
       "      <th>6</th>\n",
       "      <td>today free metacell webinar mar pm edt for res...</td>\n",
       "      <td>[0, 0, 1]</td>\n",
       "    </tr>\n",
       "    <tr>\n",
       "      <th>7</th>\n",
       "      <td>come and visit us and daphne nfdi at our booth...</td>\n",
       "      <td>[0, 0, 1]</td>\n",
       "    </tr>\n",
       "    <tr>\n",
       "      <th>8</th>\n",
       "      <td>eosc is an overarching system that supports re...</td>\n",
       "      <td>[0, 1, 0]</td>\n",
       "    </tr>\n",
       "  </tbody>\n",
       "</table>\n",
       "</div>"
      ],
      "text/plain": [
       "                                       Clean_Content      Label\n",
       "3  the first panel at today s eosctripartite even...  [0, 0, 1]\n",
       "5  the first main recommendation from the studyin...  [0, 0, 1]\n",
       "6  today free metacell webinar mar pm edt for res...  [0, 0, 1]\n",
       "7  come and visit us and daphne nfdi at our booth...  [0, 0, 1]\n",
       "8  eosc is an overarching system that supports re...  [0, 1, 0]"
      ]
     },
     "execution_count": 26,
     "metadata": {},
     "output_type": "execute_result"
    }
   ],
   "source": [
    "ohe_df['Label'] = ohe_df[['Meinung', 'Publikation', 'Veranstaltung']].values.tolist()\n",
    "ohe_df = ohe_df.drop(columns = ['Meinung', 'Publikation', 'Veranstaltung'])\n",
    "ohe_df.head(5)"
   ]
  },
  {
   "cell_type": "markdown",
   "id": "bec6b548",
   "metadata": {},
   "source": [
    "Preproccing Funktion um Symbole aus dem Text zu entfernen"
   ]
  },
  {
   "cell_type": "code",
   "execution_count": 27,
   "id": "4a9dfc78",
   "metadata": {},
   "outputs": [
    {
     "data": {
      "text/html": [
       "<div>\n",
       "<style scoped>\n",
       "    .dataframe tbody tr th:only-of-type {\n",
       "        vertical-align: middle;\n",
       "    }\n",
       "\n",
       "    .dataframe tbody tr th {\n",
       "        vertical-align: top;\n",
       "    }\n",
       "\n",
       "    .dataframe thead th {\n",
       "        text-align: right;\n",
       "    }\n",
       "</style>\n",
       "<table border=\"1\" class=\"dataframe\">\n",
       "  <thead>\n",
       "    <tr style=\"text-align: right;\">\n",
       "      <th></th>\n",
       "      <th>Clean_Content</th>\n",
       "      <th>Label</th>\n",
       "    </tr>\n",
       "  </thead>\n",
       "  <tbody>\n",
       "    <tr>\n",
       "      <th>3</th>\n",
       "      <td>first panel today eosctripartite event bulgari...</td>\n",
       "      <td>[0, 0, 1]</td>\n",
       "    </tr>\n",
       "    <tr>\n",
       "      <th>5</th>\n",
       "      <td>first main recommendation studying scientific ...</td>\n",
       "      <td>[0, 0, 1]</td>\n",
       "    </tr>\n",
       "    <tr>\n",
       "      <th>6</th>\n",
       "      <td>today free metacell webinar mar pm edt researc...</td>\n",
       "      <td>[0, 0, 1]</td>\n",
       "    </tr>\n",
       "    <tr>\n",
       "      <th>7</th>\n",
       "      <td>come visit us daphne nfdi booth today tomorrow...</td>\n",
       "      <td>[0, 0, 1]</td>\n",
       "    </tr>\n",
       "    <tr>\n",
       "      <th>8</th>\n",
       "      <td>eosc overarching system supports research inno...</td>\n",
       "      <td>[0, 1, 0]</td>\n",
       "    </tr>\n",
       "  </tbody>\n",
       "</table>\n",
       "</div>"
      ],
      "text/plain": [
       "                                       Clean_Content      Label\n",
       "3  first panel today eosctripartite event bulgari...  [0, 0, 1]\n",
       "5  first main recommendation studying scientific ...  [0, 0, 1]\n",
       "6  today free metacell webinar mar pm edt researc...  [0, 0, 1]\n",
       "7  come visit us daphne nfdi booth today tomorrow...  [0, 0, 1]\n",
       "8  eosc overarching system supports research inno...  [0, 1, 0]"
      ]
     },
     "execution_count": 27,
     "metadata": {},
     "output_type": "execute_result"
    }
   ],
   "source": [
    "def cleaning_text(text):\n",
    "    text = text.lower()\n",
    "    text = re.sub('r<.*?>', ' ', text)\n",
    "    text = re.sub(r'#\\w+', ' ', text)\n",
    "    text = re.sub(r'@\\w+', ' ', text)\n",
    "    text = re.sub(r'\\d+', ' ', text)\n",
    "    text = re.sub(r'http\\S+', \" \", text)\n",
    "\n",
    "    text = text.split()\n",
    "    stop_words = stopwords.words(\"english\")\n",
    "    text = \" \".join([word for word in text if not word in stop_words])\n",
    "\n",
    "    for punctuation in string.punctuation:\n",
    "        text = text.replace(punctuation, \"\")\n",
    "\n",
    "    return text\n",
    "\n",
    "ohe_df['Clean_Content'] = ohe_df['Clean_Content'].apply(lambda x: cleaning_text(x))\n",
    "\n",
    "ohe_df.head()\n"
   ]
  },
  {
   "cell_type": "markdown",
   "id": "653807d9",
   "metadata": {},
   "source": [
    "<h2>Bert Model<h2>"
   ]
  },
  {
   "cell_type": "code",
   "execution_count": 28,
   "id": "d28444e2",
   "metadata": {},
   "outputs": [],
   "source": [
    "tokenizer = BertTokenizer.from_pretrained('bert-base-uncased')"
   ]
  },
  {
   "cell_type": "code",
   "execution_count": 29,
   "id": "397d07a9",
   "metadata": {},
   "outputs": [],
   "source": [
    "max_len = 32\n",
    "# Class PrepDataset to format the dataset to feed the BERT model\n",
    "class PrepDataset(Dataset):\n",
    "    def __init__(self, dataframe, tokenizer, max_len):\n",
    "        self.tokenizer = tokenizer\n",
    "        self.data = dataframe\n",
    "        self.text = dataframe['Clean_Content']\n",
    "      #  self.targets = dataframe['Label']\n",
    "        self.targets = self.data.Label\n",
    "        self.max_len = max_len\n",
    "    def __len__(self):\n",
    "        return len(self.text)\n",
    "    def __getitem__(self, index):\n",
    "        text = str(self.text[index])\n",
    "        text = \" \".join(text.split())\n",
    "        inputs = self.tokenizer.encode_plus(\n",
    "            text,\n",
    "            None,\n",
    "            add_special_tokens=True,\n",
    "            max_length=self.max_len,\n",
    "            padding='max_length',\n",
    "            return_token_type_ids=True,\n",
    "            truncation=True\n",
    "        )\n",
    "        ids = inputs['input_ids']\n",
    "        mask = inputs['attention_mask']\n",
    "        token_type_ids = inputs[\"token_type_ids\"]\n",
    "        return {\n",
    "            'ids': torch.tensor(ids, dtype=torch.long),\n",
    "            'mask': torch.tensor(mask, dtype=torch.long),\n",
    "            'token_type_ids': torch.tensor(token_type_ids, dtype=torch.long),\n",
    "            'targets': torch.tensor(self.targets[index], dtype=torch.float)\n",
    "        }\n",
    "     "
   ]
  },
  {
   "cell_type": "code",
   "execution_count": 30,
   "id": "4480d92e",
   "metadata": {},
   "outputs": [],
   "source": [
    "#Split 8:2 ratio train-validation\n",
    "train_size = 0.8\n",
    "train_dataset = ohe_df.sample(frac=train_size,random_state=200)\n",
    "valid_dataset = ohe_df.drop(train_dataset.index).reset_index(drop=True)\n",
    "train_dataset = train_dataset.reset_index(drop=True)\n",
    "training_set = PrepDataset(train_dataset, tokenizer, max_len)\n",
    "validation_set = PrepDataset(valid_dataset, tokenizer, max_len)\n",
    "training_loader = DataLoader(training_set, batch_size=30)\n",
    "validation_loader = DataLoader(validation_set, batch_size=30)"
   ]
  },
  {
   "cell_type": "code",
   "execution_count": 31,
   "id": "b6d8fc7e",
   "metadata": {},
   "outputs": [],
   "source": [
    "# BERT model class\n",
    "class BERT(torch.nn.Module):\n",
    "    def __init__(self):\n",
    "        super(BERT, self).__init__()\n",
    "        self.l1 = BertModel.from_pretrained('bert-base-uncased', return_dict=False)\n",
    "        self.l2 = torch.nn.Dropout(0.3)\n",
    "        self.l3 = torch.nn.Linear(768, 3)\n",
    "    def forward(self, ids, mask, token_type_ids):\n",
    "        _, output_1= self.l1(ids, attention_mask = mask, token_type_ids = token_type_ids)\n",
    "        output_2 = self.l2(output_1)\n",
    "        output = self.l3(output_2)\n",
    "        return output"
   ]
  },
  {
   "cell_type": "code",
   "execution_count": 32,
   "id": "e5e21f2e",
   "metadata": {},
   "outputs": [
    {
     "name": "stdout",
     "output_type": "stream",
     "text": [
      "1.12.1\n"
     ]
    }
   ],
   "source": [
    "print(torch.__version__)"
   ]
  },
  {
   "cell_type": "code",
   "execution_count": 33,
   "id": "990e3a50",
   "metadata": {},
   "outputs": [],
   "source": [
    "device = torch.device(\"cpu\")"
   ]
  },
  {
   "cell_type": "code",
   "execution_count": 34,
   "id": "89958490",
   "metadata": {},
   "outputs": [
    {
     "name": "stderr",
     "output_type": "stream",
     "text": [
      "Some weights of the model checkpoint at bert-base-uncased were not used when initializing BertModel: ['cls.seq_relationship.weight', 'cls.predictions.transform.dense.bias', 'cls.predictions.decoder.weight', 'cls.predictions.transform.LayerNorm.weight', 'cls.predictions.bias', 'cls.predictions.transform.LayerNorm.bias', 'cls.seq_relationship.bias', 'cls.predictions.transform.dense.weight']\n",
      "- This IS expected if you are initializing BertModel from the checkpoint of a model trained on another task or with another architecture (e.g. initializing a BertForSequenceClassification model from a BertForPreTraining model).\n",
      "- This IS NOT expected if you are initializing BertModel from the checkpoint of a model that you expect to be exactly identical (initializing a BertForSequenceClassification model from a BertForSequenceClassification model).\n"
     ]
    },
    {
     "name": "stdout",
     "output_type": "stream",
     "text": [
      "Epoch: 0, Training Loss:  0.6112890839576721\n",
      "Epoch: 1, Training Loss:  0.47920823097229004\n",
      "Epoch: 2, Training Loss:  0.4284406006336212\n",
      "Epoch: 3, Training Loss:  0.2829594612121582\n"
     ]
    }
   ],
   "source": [
    "# Training\n",
    "epochs = 4\n",
    "learning_rate = 0.0001\n",
    "model = BERT()\n",
    "model.to(device)\n",
    "len_trainloader = len(training_loader)\n",
    "loss_f = torch.nn.BCELoss()\n",
    "optimizer = torch.optim.Adam(model.parameters(), lr = learning_rate)\n",
    "train_loss = 0\n",
    "valid_loss = 0\n",
    "def loss_fn(outputs, targets):\n",
    "    return torch.nn.BCEWithLogitsLoss()(outputs, targets)\n",
    "for epoch in range(epochs):\n",
    "  avg_loss = 0\n",
    "  items = 0\n",
    "  for batch_idx, data in enumerate(training_loader):\n",
    "        ids = data['ids'].to(device, dtype = torch.long)\n",
    "        mask = data['mask'].to(device, dtype = torch.long)\n",
    "        token_type_ids = data['token_type_ids'].to(device, dtype = torch.long)\n",
    "        targets = data['targets'].to(device, dtype = torch.float)\n",
    "        outputs = model(ids, mask, token_type_ids)\n",
    "        optimizer.zero_grad()\n",
    "        loss = loss_fn(outputs, targets)\n",
    "        optimizer.zero_grad()\n",
    "        loss.backward()\n",
    "        optimizer.step()\n",
    "        train_loss = train_loss + ((1 / (batch_idx + 1)) * (loss.item() - train_loss))\n",
    "  print(f'Epoch: {epoch}, Training Loss:  {loss.item()}')\n",
    "\n",
    "file_path = '/Users/nelesassor/Desktop/TwitterAnalyse/src/Model/model.pth'\n",
    "\n",
    "torch.save(model.state_dict(), file_path)\n"
   ]
  },
  {
   "cell_type": "code",
   "execution_count": 35,
   "id": "bd508d81",
   "metadata": {},
   "outputs": [],
   "source": [
    "val_targets=[]\n",
    "val_outputs=[]\n",
    "valid_loss=0     "
   ]
  },
  {
   "cell_type": "code",
   "execution_count": null,
   "id": "ea01fa9f",
   "metadata": {},
   "outputs": [],
   "source": []
  },
  {
   "cell_type": "code",
   "execution_count": 36,
   "id": "a14fc85b",
   "metadata": {},
   "outputs": [],
   "source": [
    "# Validation\n",
    "\n",
    "model.eval()\n",
    "with torch.no_grad():\n",
    "    for batch_idx, data in enumerate(validation_loader, 0):\n",
    "        ids = data['ids'].to(device, dtype = torch.long)\n",
    "        mask = data['mask'].to(device, dtype = torch.long)\n",
    "        token_type_ids = data['token_type_ids'].to(device, dtype = torch.long)\n",
    "        targets = data['targets'].to(device, dtype = torch.float)\n",
    "        outputs = model(ids, mask, token_type_ids)\n",
    "        loss = loss_fn(outputs, targets)\n",
    "        valid_loss = valid_loss + ((1 / (batch_idx + 1)) * (loss.item() - valid_loss))\n",
    "        val_targets.extend(targets.cpu().detach().numpy().tolist())\n",
    "        val_outputs.extend(torch.sigmoid(outputs).cpu().detach().numpy().tolist())\n",
    "     "
   ]
  },
  {
   "cell_type": "code",
   "execution_count": 37,
   "id": "36bf60aa",
   "metadata": {},
   "outputs": [],
   "source": [
    "val_preds = (np.array(val_outputs) > 0.5).astype(int)\n",
    "accuracy = metrics.accuracy_score(val_targets, val_preds)\n",
    "f1 = metrics.f1_score(val_targets, val_preds, average='micro')"
   ]
  },
  {
   "cell_type": "code",
   "execution_count": 38,
   "id": "d171fc90",
   "metadata": {},
   "outputs": [
    {
     "name": "stdout",
     "output_type": "stream",
     "text": [
      "Accuracy: 0.7352941176470589\n",
      "F1 Score: 0.7647058823529412\n"
     ]
    }
   ],
   "source": [
    "# Accuracy and F1 score of the model\n",
    "print(\"Accuracy: \" +str(accuracy))\n",
    "print(\"F1 Score: \" +str(f1))"
   ]
  },
  {
   "cell_type": "code",
   "execution_count": 39,
   "id": "736b8b55",
   "metadata": {},
   "outputs": [],
   "source": [
    "# Prepare the prediction dataset for the model for the test\n",
    "class PredictionDataset(Dataset):\n",
    "    def __init__(self, dataframe, tokenizer, max_len):\n",
    "        self.tokenizer = tokenizer\n",
    "        self.data = dataframe\n",
    "        self.text = dataframe['Clean_Content']\n",
    "        self.max_len = max_len\n",
    "    def __len__(self):\n",
    "        return len(self.text)\n",
    "    def __getitem__(self, index):\n",
    "        text = str(self.text[index])\n",
    "        text = \" \".join(text.split())\n",
    "        inputs = self.tokenizer.encode_plus(\n",
    "            text,\n",
    "            None,\n",
    "            add_special_tokens=True,\n",
    "            max_length=self.max_len,\n",
    "            padding='max_length',\n",
    "            return_token_type_ids=True,\n",
    "            truncation=True\n",
    "        )\n",
    "        ids = inputs['input_ids']\n",
    "        mask = inputs['attention_mask']\n",
    "        token_type_ids = inputs[\"token_type_ids\"]\n",
    "        return {\n",
    "            'ids': torch.tensor(ids, dtype=torch.long),\n",
    "            'mask': torch.tensor(mask, dtype=torch.long),\n",
    "            'token_type_ids': torch.tensor(token_type_ids, dtype=torch.long),\n",
    "        }"
   ]
  },
  {
   "cell_type": "code",
   "execution_count": 40,
   "id": "5730525c",
   "metadata": {},
   "outputs": [],
   "source": [
    "# Function to use the model with the test dataset\n",
    "def do_prediction(loader):\n",
    "    model.eval()\n",
    "    pred_outputs=[]\n",
    "    with torch.no_grad():\n",
    "        for _, data in enumerate(loader):\n",
    "            ids = data['ids'].to(device, dtype = torch.long)\n",
    "            mask = data['mask'].to(device, dtype = torch.long)\n",
    "            token_type_ids = data['token_type_ids'].to(device, dtype = torch.long)\n",
    "            outputs = model(ids, mask, token_type_ids)\n",
    "            pred_outputs.extend(torch.sigmoid(outputs).cpu().detach().numpy().tolist())\n",
    "    return pred_outputs\n",
    "     "
   ]
  },
  {
   "cell_type": "code",
   "execution_count": 41,
   "id": "4f99e343",
   "metadata": {},
   "outputs": [],
   "source": [
    "test_set = PredictionDataset(valid_dataset, tokenizer, max_len)\n",
    "testing_loader = DataLoader(test_set, batch_size=10)"
   ]
  },
  {
   "cell_type": "code",
   "execution_count": 42,
   "id": "0f9d9cdb",
   "metadata": {},
   "outputs": [
    {
     "data": {
      "text/html": [
       "<div>\n",
       "<style scoped>\n",
       "    .dataframe tbody tr th:only-of-type {\n",
       "        vertical-align: middle;\n",
       "    }\n",
       "\n",
       "    .dataframe tbody tr th {\n",
       "        vertical-align: top;\n",
       "    }\n",
       "\n",
       "    .dataframe thead th {\n",
       "        text-align: right;\n",
       "    }\n",
       "</style>\n",
       "<table border=\"1\" class=\"dataframe\">\n",
       "  <thead>\n",
       "    <tr style=\"text-align: right;\">\n",
       "      <th></th>\n",
       "      <th>Clean_Content</th>\n",
       "      <th>Kategorisierung</th>\n",
       "    </tr>\n",
       "  </thead>\n",
       "  <tbody>\n",
       "    <tr>\n",
       "      <th>220</th>\n",
       "      <td>the agentproject train the trainer team teache...</td>\n",
       "      <td>Veranstaltung</td>\n",
       "    </tr>\n",
       "    <tr>\n",
       "      <th>221</th>\n",
       "      <td>just published emily rayfield pamela gill laut...</td>\n",
       "      <td>Publikation</td>\n",
       "    </tr>\n",
       "    <tr>\n",
       "      <th>222</th>\n",
       "      <td>just published controlled rachael gooberman hi...</td>\n",
       "      <td>Publikation</td>\n",
       "    </tr>\n",
       "    <tr>\n",
       "      <th>223</th>\n",
       "      <td>the cicompass fair findable accessible interop...</td>\n",
       "      <td>Meinung</td>\n",
       "    </tr>\n",
       "    <tr>\n",
       "      <th>224</th>\n",
       "      <td>a short video about our brand new dataset sear...</td>\n",
       "      <td>Meinung</td>\n",
       "    </tr>\n",
       "  </tbody>\n",
       "</table>\n",
       "</div>"
      ],
      "text/plain": [
       "                                         Clean_Content Kategorisierung\n",
       "220  the agentproject train the trainer team teache...   Veranstaltung\n",
       "221  just published emily rayfield pamela gill laut...     Publikation\n",
       "222  just published controlled rachael gooberman hi...     Publikation\n",
       "223  the cicompass fair findable accessible interop...         Meinung\n",
       "224  a short video about our brand new dataset sear...         Meinung"
      ]
     },
     "execution_count": 42,
     "metadata": {},
     "output_type": "execute_result"
    }
   ],
   "source": [
    "test_dataset.head()"
   ]
  },
  {
   "cell_type": "markdown",
   "id": "9d62bc26",
   "metadata": {},
   "source": [
    "Trainings und Testdaten trennen"
   ]
  },
  {
   "cell_type": "code",
   "execution_count": 43,
   "id": "a781da2e",
   "metadata": {
    "scrolled": true
   },
   "outputs": [],
   "source": [
    "target_list = ['Meinung', 'Publikation', 'Veranstaltung', 'Divers']\n",
    "# Test data preprocessing \n",
    "test_dataset['Clean_Content'] = test_dataset['Clean_Content'].apply(lambda x: cleaning_text(x))\n",
    "test_actual = pd.get_dummies(test_dataset['Kategorisierung'])\n",
    "test_actual['Label'] = test_actual[['Meinung','Publikation', 'Veranstaltung']].values.tolist()\n",
    "test_actual = test_actual.drop(columns = ['Meinung', 'Publikation', 'Veranstaltung'])\n",
    "test_dataset = test_dataset.drop(columns = ['Kategorisierung'])\n",
    "test_dataset = test_dataset.reset_index(drop=True)\n",
    "test_set = PredictionDataset(test_dataset, tokenizer, max_len)\n",
    "testing_loader = DataLoader(test_set, batch_size=30)"
   ]
  },
  {
   "cell_type": "code",
   "execution_count": 44,
   "id": "b6cc9608",
   "metadata": {},
   "outputs": [
    {
     "name": "stdout",
     "output_type": "stream",
     "text": [
      "    Meinung  Publikation  Veranstaltung\n",
      "0         0            0              1\n",
      "1         0            1              0\n",
      "2         0            1              0\n",
      "3         0            0              1\n",
      "4         0            0              1\n",
      "5         0            0              1\n",
      "6         0            1              0\n",
      "7         0            0              1\n",
      "8         0            0              1\n",
      "9         0            0              1\n",
      "10        0            0              1\n"
     ]
    }
   ],
   "source": [
    "# Concatenate the predictions with the test dataset\n",
    "pred_outputs = do_prediction(testing_loader)\n",
    "pred_outputs = (np.array(pred_outputs) >= 0.5).astype(int)\n",
    "preds_df = pd.DataFrame(pred_outputs, columns =['Meinung', 'Publikation', 'Veranstaltung'])\n",
    "df_concat = pd.concat([test_dataset, preds_df], axis=1)\n",
    "\n",
    "print(preds_df)"
   ]
  },
  {
   "cell_type": "code",
   "execution_count": 45,
   "id": "ac69db72",
   "metadata": {},
   "outputs": [
    {
     "name": "stdout",
     "output_type": "stream",
     "text": [
      "[[0, 0, 1], [0, 1, 0], [0, 1, 0], [1, 0, 0], [1, 0, 0], [1, 0, 0], [0, 1, 0], [0, 0, 1], [1, 0, 0], [0, 0, 1], [0, 0, 1]]\n",
      "['Veranstaltung', 'Publikation', 'Publikation', 'Meinung', 'Meinung', 'Meinung', 'Publikation', 'Veranstaltung', 'Meinung', 'Veranstaltung', 'Veranstaltung']\n",
      "0.6363636363636364\n"
     ]
    }
   ],
   "source": [
    "# Accuracy of predicted test data vs actual test data\n",
    "actual = test_actual['Label'].tolist()\n",
    "accuracy_test = metrics.accuracy_score(actual, pred_outputs)\n",
    "print(actual)\n",
    "actual = np.array(actual)\n",
    "pred_outputs = np.array(pred_outputs)\n",
    "\n",
    "\n",
    "actual_idx = np.argmax(actual, axis=1)\n",
    "\n",
    "\n",
    "actual_labels = [target_list[idx] for idx in actual_idx]\n",
    "\n",
    "\n",
    "# Print actual_labels and accuracy_test\n",
    "print(actual_labels)\n",
    "print(accuracy_test)\n"
   ]
  },
  {
   "cell_type": "code",
   "execution_count": 46,
   "id": "05ada339",
   "metadata": {},
   "outputs": [
    {
     "name": "stdout",
     "output_type": "stream",
     "text": [
      "                                        Clean_Content  Meinung  Publikation  \\\n",
      "0   agentproject train trainer team teached traine...        0            0   \n",
      "1   published emily rayfield pamela gill lautensch...        0            1   \n",
      "2   published controlled rachael gooberman hill an...        0            1   \n",
      "3   cicompass fair findable accessible interoperab...        0            0   \n",
      "4   short video brand new dataset search look subs...        0            0   \n",
      "5   great assistant prof position fair research da...        0            0   \n",
      "6   newspecies new squat lobster pacific ocean flu...        0            1   \n",
      "7   excited joining data spaces symposium come vis...        0            0   \n",
      "8   encouraged intellectual assets managed way ena...        0            0   \n",
      "9   iwd ilarosat martinapulieri cristinadimuri fol...        0            0   \n",
      "10  watch demand experts sharing experiences explo...        0            0   \n",
      "\n",
      "    Veranstaltung  \n",
      "0               1  \n",
      "1               0  \n",
      "2               0  \n",
      "3               1  \n",
      "4               1  \n",
      "5               1  \n",
      "6               0  \n",
      "7               1  \n",
      "8               1  \n",
      "9               1  \n",
      "10              1  \n"
     ]
    }
   ],
   "source": [
    "result = pd.concat([test_dataset['Clean_Content'], preds_df], axis=1)\n",
    "\n",
    "print(result)"
   ]
  },
  {
   "cell_type": "code",
   "execution_count": 47,
   "id": "a58e7555",
   "metadata": {},
   "outputs": [
    {
     "name": "stdout",
     "output_type": "stream",
     "text": [
      "                                        Clean_Content              0\n",
      "0   agentproject train trainer team teached traine...  Veranstaltung\n",
      "1   published emily rayfield pamela gill lautensch...    Publikation\n",
      "2   published controlled rachael gooberman hill an...    Publikation\n",
      "3   cicompass fair findable accessible interoperab...        Meinung\n",
      "4   short video brand new dataset search look subs...        Meinung\n",
      "5   great assistant prof position fair research da...        Meinung\n",
      "6   newspecies new squat lobster pacific ocean flu...    Publikation\n",
      "7   excited joining data spaces symposium come vis...  Veranstaltung\n",
      "8   encouraged intellectual assets managed way ena...        Meinung\n",
      "9   iwd ilarosat martinapulieri cristinadimuri fol...  Veranstaltung\n",
      "10  watch demand experts sharing experiences explo...  Veranstaltung\n",
      "(11, 2)\n"
     ]
    },
    {
     "name": "stderr",
     "output_type": "stream",
     "text": [
      "/var/folders/2s/fkmsmwt93ln3hc_sf08vff_m0000gn/T/ipykernel_35922/2698595595.py:4: FutureWarning: column_space is deprecated and will be removed in a future version. Use df.to_string(col_space=...) instead.\n",
      "  pd.reset_option('all')\n",
      "/var/folders/2s/fkmsmwt93ln3hc_sf08vff_m0000gn/T/ipykernel_35922/2698595595.py:4: FutureWarning: As the xlwt package is no longer maintained, the xlwt engine will be removed in a future version of pandas. This is the only engine in pandas that supports writing in the xls format. Install openpyxl and write to an xlsx file instead.\n",
      "  pd.reset_option('all')\n",
      "/var/folders/2s/fkmsmwt93ln3hc_sf08vff_m0000gn/T/ipykernel_35922/2698595595.py:4: FutureWarning: \n",
      ": boolean\n",
      "    use_inf_as_null had been deprecated and will be removed in a future\n",
      "    version. Use `use_inf_as_na` instead.\n",
      "\n",
      "  pd.reset_option('all')\n"
     ]
    }
   ],
   "source": [
    "df_concat_string = result.to_string(header=False, index=False, index_names=False, justify='left', col_space=1, max_colwidth=None)\n",
    "\n",
    "result_good = pd.concat([test_dataset['Clean_Content'], pd.Series(actual_labels)], axis=1)\n",
    "pd.reset_option('all')\n",
    "print(result_good)\n",
    "print(result_good.shape)"
   ]
  },
  {
   "cell_type": "code",
   "execution_count": 48,
   "id": "61f7341e",
   "metadata": {},
   "outputs": [
    {
     "data": {
      "text/plain": [
       "0.6363636363636364"
      ]
     },
     "execution_count": 48,
     "metadata": {},
     "output_type": "execute_result"
    }
   ],
   "source": [
    "accuracy_test"
   ]
  },
  {
   "cell_type": "code",
   "execution_count": 49,
   "id": "46070a2a",
   "metadata": {},
   "outputs": [
    {
     "data": {
      "image/png": "[encoded data removed]",
      "text/plain": [
       "<Figure size 640x480 with 1 Axes>"
      ]
     },
     "metadata": {},
     "output_type": "display_data"
    },
    {
     "name": "stdout",
     "output_type": "stream",
     "text": [
      "Veranstaltung    4\n",
      "Meinung          4\n",
      "Publikation      3\n",
      "Name: Kategorisierung, dtype: int64\n"
     ]
    }
   ],
   "source": [
    "\n",
    "result_good.columns = ['Content','Kategorisierung']\n",
    "#result_good = result_good[1:]  # Überspringen Sie die erste Zeile, die Spaltennamen enthält\n",
    "\n",
    "category_counts = result_good['Kategorisierung'].value_counts()\n",
    "\n",
    "category_counts.plot(kind='bar')\n",
    "plt.xlabel('Kategorisierung')\n",
    "plt.ylabel('Anzahl')\n",
    "plt.title('Häufigkeit der Kategorisierung')\n",
    "plt.tight_layout()\n",
    "plt.savefig('../results/kategorisierung_plot.png', dpi=500)\n",
    "plt.show()\n",
    "\n",
    "print(category_counts)"
   ]
  },
  {
   "cell_type": "markdown",
   "id": "144b0675",
   "metadata": {},
   "source": [
    "<h2>Apply the model on the rest of the dataframe<h2>"
   ]
  },
  {
   "cell_type": "code",
   "execution_count": 50,
   "id": "b7d582ac",
   "metadata": {},
   "outputs": [],
   "source": [
    "#auf python_tweets_fairdata.csv anwenden"
   ]
  },
  {
   "cell_type": "code",
   "execution_count": 51,
   "id": "dbc0666a",
   "metadata": {},
   "outputs": [],
   "source": [
    "df_fairdata = pd.read_csv('../data/twitter/pyhon_tweets_fairdata.csv')"
   ]
  },
  {
   "cell_type": "code",
   "execution_count": 52,
   "id": "ffd621b3",
   "metadata": {},
   "outputs": [],
   "source": [
    "newdf_fairdata = df_fairdata.loc[:,['Content']]"
   ]
  },
  {
   "cell_type": "code",
   "execution_count": 53,
   "id": "0aa8e799",
   "metadata": {},
   "outputs": [
    {
     "name": "stderr",
     "output_type": "stream",
     "text": [
      "/Users/nelesassor/anaconda3/lib/python3.10/site-packages/bs4/__init__.py:435: MarkupResemblesLocatorWarning: The input looks more like a filename than markup. You may want to open this file and pass the filehandle into Beautiful Soup.\n",
      "  warnings.warn(\n"
     ]
    },
    {
     "data": {
      "text/plain": [
       "(1002, 2)"
      ]
     },
     "execution_count": 53,
     "metadata": {},
     "output_type": "execute_result"
    }
   ],
   "source": [
    "newdf_fairdata['Clean_Content'] = newdf_fairdata['Content'].apply(pre_process)\n",
    "newdf_fairdata.shape"
   ]
  },
  {
   "cell_type": "code",
   "execution_count": 54,
   "id": "c2ea07ca",
   "metadata": {},
   "outputs": [
    {
     "data": {
      "text/plain": [
       "(918, 2)"
      ]
     },
     "execution_count": 54,
     "metadata": {},
     "output_type": "execute_result"
    }
   ],
   "source": [
    "newdf_fairdata = filter_non_english_tweets(newdf_fairdata, lang='en')\n",
    "newdf_fairdata.shape"
   ]
  },
  {
   "cell_type": "code",
   "execution_count": 55,
   "id": "34a72a76",
   "metadata": {},
   "outputs": [],
   "source": [
    "bert = newdf_fairdata.loc[:,['Clean_Content']]"
   ]
  },
  {
   "cell_type": "code",
   "execution_count": 56,
   "id": "38ccb54c",
   "metadata": {},
   "outputs": [
    {
     "name": "stdout",
     "output_type": "stream",
     "text": [
      "                                       Clean_Content\n",
      "0  wilhwid bbmrieric ilireh ecrin eric tugraz gat...\n",
      "1  i spent this morning with eerorinne and the st...\n",
      "2  the first panel at today s eosctripartite even...\n",
      "3  that s right we will provide financial support...\n",
      "4  the first main recommendation from the studyin...\n",
      "5  today free metacell webinar mar pm edt for res...\n",
      "6  come and visit us and daphne nfdi at our booth...\n",
      "7  eosc is an overarching system that supports re...\n",
      "8  eosc steering board for italy giorgio rossi pr...\n",
      "9  workshop the worldfair project s cross domain ...\n"
     ]
    }
   ],
   "source": [
    "print(bert.head(10))"
   ]
  },
  {
   "cell_type": "code",
   "execution_count": null,
   "id": "5c2415b2",
   "metadata": {},
   "outputs": [],
   "source": []
  },
  {
   "cell_type": "code",
   "execution_count": 57,
   "id": "fefaa2d4",
   "metadata": {},
   "outputs": [],
   "source": [
    "test_dataset = bert.reset_index(drop=True)\n",
    "test_set = PredictionDataset(test_dataset, tokenizer, max_len)\n",
    "testing_loader = DataLoader(test_set, batch_size=100)"
   ]
  },
  {
   "cell_type": "code",
   "execution_count": 59,
   "id": "fc9f4b5c",
   "metadata": {},
   "outputs": [
    {
     "name": "stdout",
     "output_type": "stream",
     "text": [
      "     Meinung  Publikation  Veranstaltung\n",
      "0          0            0              1\n",
      "1          0            0              1\n",
      "2          0            0              1\n",
      "3          0            0              1\n",
      "4          0            0              1\n",
      "..       ...          ...            ...\n",
      "913        0            1              0\n",
      "914        0            1              0\n",
      "915        0            0              1\n",
      "916        0            0              1\n",
      "917        0            0              1\n",
      "\n",
      "[918 rows x 3 columns]\n"
     ]
    }
   ],
   "source": [
    "\n",
    "# Concatenate the predictions with the test dataset\n",
    "pred_outputs = do_prediction(testing_loader)\n",
    "pred_outputs = (np.array(pred_outputs) >= 0.5).astype(int)\n",
    "preds_df = pd.DataFrame(pred_outputs, columns =['Meinung', 'Publikation', 'Veranstaltung'])\n",
    "df_concat = pd.concat([bert, preds_df], axis=1)\n",
    "\n",
    "print(preds_df)"
   ]
  },
  {
   "cell_type": "code",
   "execution_count": 60,
   "id": "93dc5df2",
   "metadata": {},
   "outputs": [
    {
     "name": "stdout",
     "output_type": "stream",
     "text": [
      "                                         Clean_Content  Meinung  Publikation  \\\n",
      "0    wilhwid bbmrieric ilireh ecrin eric tugraz gat...        0            0   \n",
      "1    i spent this morning with eerorinne and the st...        0            0   \n",
      "2    the first panel at today s eosctripartite even...        0            0   \n",
      "3    that s right we will provide financial support...        0            0   \n",
      "4    the first main recommendation from the studyin...        0            0   \n",
      "..                                                 ...      ...          ...   \n",
      "913  merry fishmas newspecies new sisorid catfish f...        0            1   \n",
      "914  newspecies new burrowing toad from brazil just...        0            1   \n",
      "915  do you have a story to tell about your opensci...        0            0   \n",
      "916  very happy to initiate the inchi revival in aa...        0            0   \n",
      "917  closing phd opportunity at uniofoxford oxforde...        0            0   \n",
      "\n",
      "     Veranstaltung  \n",
      "0                1  \n",
      "1                1  \n",
      "2                1  \n",
      "3                1  \n",
      "4                1  \n",
      "..             ...  \n",
      "913              0  \n",
      "914              0  \n",
      "915              1  \n",
      "916              1  \n",
      "917              1  \n",
      "\n",
      "[918 rows x 4 columns]\n"
     ]
    }
   ],
   "source": [
    "result = pd.concat([test_dataset['Clean_Content'], preds_df], axis=1)\n",
    "\n",
    "print(result)"
   ]
  },
  {
   "cell_type": "code",
   "execution_count": 61,
   "id": "fc7c19ab",
   "metadata": {
    "scrolled": true
   },
   "outputs": [],
   "source": [
    "actual = np.array(preds_df)\n",
    "actual_idx = np.argmax(actual, axis=1)\n",
    "target_list = ['Meinung','Publikation', 'Veranstaltung']\n",
    "\n",
    "actual_labels = [target_list[idx] for idx in actual_idx]"
   ]
  },
  {
   "cell_type": "code",
   "execution_count": 62,
   "id": "2c1ad1bd",
   "metadata": {},
   "outputs": [
    {
     "name": "stdout",
     "output_type": "stream",
     "text": [
      "                                         Clean_Content              0\n",
      "0    wilhwid bbmrieric ilireh ecrin eric tugraz gat...  Veranstaltung\n",
      "1    i spent this morning with eerorinne and the st...  Veranstaltung\n",
      "2    the first panel at today s eosctripartite even...  Veranstaltung\n",
      "3    that s right we will provide financial support...  Veranstaltung\n",
      "4    the first main recommendation from the studyin...  Veranstaltung\n",
      "..                                                 ...            ...\n",
      "913  merry fishmas newspecies new sisorid catfish f...    Publikation\n",
      "914  newspecies new burrowing toad from brazil just...    Publikation\n",
      "915  do you have a story to tell about your opensci...  Veranstaltung\n",
      "916  very happy to initiate the inchi revival in aa...  Veranstaltung\n",
      "917  closing phd opportunity at uniofoxford oxforde...  Veranstaltung\n",
      "\n",
      "[918 rows x 2 columns]\n"
     ]
    }
   ],
   "source": [
    "result = pd.concat([test_dataset['Clean_Content'], preds_df], axis=1)\n",
    "\n",
    "df_concat_string = result.to_string(header=False, index=False, index_names=False, justify='left', col_space=1, max_colwidth=None)\n",
    "\n",
    "result_good = pd.concat([test_dataset['Clean_Content'], pd.Series(actual_labels)], axis=1)\n",
    "print(result_good)"
   ]
  },
  {
   "cell_type": "code",
   "execution_count": 152,
   "id": "b1e6ce8b",
   "metadata": {},
   "outputs": [],
   "source": [
    "result_good.to_csv('../results/tweets_labeled_English_only.csv', index=False)"
   ]
  },
  {
   "cell_type": "code",
   "execution_count": null,
   "id": "dd49698d",
   "metadata": {},
   "outputs": [],
   "source": [
    "\n",
    "result_good.columns = ['Content','Kategorisierung']\n",
    "#result_good = result_good[1:]  # Überspringen Sie die erste Zeile, die Spaltennamen enthält\n",
    "\n",
    "category_counts = result_good['Kategorisierung'].value_counts()\n",
    "\n",
    "category_counts.plot(kind='bar')\n",
    "plt.xlabel('Kategorisierung')\n",
    "plt.ylabel('Anzahl')\n",
    "plt.title('Häufigkeit der Kategorisierung')\n",
    "plt.tight_layout()\n",
    "plt.savefig('../results/kategorisierung_plot_Tweets.png', dpi=1000)\n",
    "plt.show()\n",
    "\n",
    "print(category_counts)"
   ]
  },
  {
   "cell_type": "markdown",
   "id": "51015759",
   "metadata": {},
   "source": [
    "## Apply Model to another Datset from Mastodon\n",
    "python_mastodonScienceCom_toots_fairdata.csv\n"
   ]
  },
  {
   "cell_type": "code",
   "execution_count": 64,
   "id": "557dd502",
   "metadata": {},
   "outputs": [],
   "source": [
    "import analysis\n"
   ]
  },
  {
   "cell_type": "code",
   "execution_count": 151,
   "id": "d9f77343",
   "metadata": {},
   "outputs": [],
   "source": [
    "df_fairdata = pd.read_csv('../data/mastodon/alt/python_mastodonScienceCom_toots_fairdata.csv')"
   ]
  },
  {
   "cell_type": "code",
   "execution_count": 104,
   "id": "7d6c7872",
   "metadata": {},
   "outputs": [
    {
     "name": "stdout",
     "output_type": "stream",
     "text": [
      "Index(['Unnamed: 0', 'id', 'created_at', 'in_reply_to_id',\n",
      "       'in_reply_to_account_id', 'sensitive', 'spoiler_text', 'visibility',\n",
      "       'language', 'uri', 'url', 'replies_count', 'reblogs_count',\n",
      "       'favourites_count', 'edited_at', 'content', 'reblog', 'account',\n",
      "       'media_attachments', 'mentions', 'tags', 'emojis', 'card', 'poll',\n",
      "       'application', 'limited', 'local_only', 'content_type', 'quote'],\n",
      "      dtype='object')\n"
     ]
    }
   ],
   "source": [
    "df = analysis.df\n",
    "print(df.columns)"
   ]
  },
  {
   "cell_type": "code",
   "execution_count": 105,
   "id": "4c5c57e7",
   "metadata": {},
   "outputs": [],
   "source": [
    "#newdf_fairdata = df_fairdata.loc[:,['content']]\n",
    "df_new = df.loc[:,['content']]"
   ]
  },
  {
   "cell_type": "code",
   "execution_count": 106,
   "id": "e4a39833",
   "metadata": {},
   "outputs": [
    {
     "data": {
      "text/plain": [
       "(7590, 2)"
      ]
     },
     "execution_count": 106,
     "metadata": {},
     "output_type": "execute_result"
    }
   ],
   "source": [
    "df_new['Clean_Content'] = df_new['content'].apply(pre_process)\n",
    "df_new.shape"
   ]
  },
  {
   "cell_type": "code",
   "execution_count": 107,
   "id": "c8b497a3",
   "metadata": {},
   "outputs": [
    {
     "data": {
      "text/plain": [
       "(7160, 2)"
      ]
     },
     "execution_count": 107,
     "metadata": {},
     "output_type": "execute_result"
    }
   ],
   "source": [
    "df_new = filter_non_english_tweets(df_new, lang='en')\n",
    "df_new.shape"
   ]
  },
  {
   "cell_type": "code",
   "execution_count": 108,
   "id": "b35b7b5c",
   "metadata": {},
   "outputs": [],
   "source": [
    "bert = df_new.loc[:,['Clean_Content']]"
   ]
  },
  {
   "cell_type": "code",
   "execution_count": 109,
   "id": "5246f4e4",
   "metadata": {},
   "outputs": [
    {
     "name": "stdout",
     "output_type": "stream",
     "text": [
      "                                                                                           Clean_Content\n",
      "../data/mastodon/python_tooswales_toots_fairdat... 0   publish your data with confidence our data pub...\n",
      "                                                   1   newspeciesnew jumping spider from china just j...\n",
      "                                                   2   newspecies new freshwater mussel from north ca...\n",
      "                                                   3   learn about fair principled stewardship of mac...\n",
      "                                                   4   on june th danielvanstrien machine learning li...\n",
      "                                                   5   newspecies new frog from australia just hopped...\n",
      "                                                   6   newspecies new robber fly from mozambique just...\n",
      "                                                   8   newspecies parodia hofackerianaa newly discove...\n",
      "                                                   9   newspeciesnew dragonfly from thailand just lan...\n",
      "                                                   10  it s my pleasure to share a three part blog po...\n"
     ]
    }
   ],
   "source": [
    "print(bert.head(10))"
   ]
  },
  {
   "cell_type": "code",
   "execution_count": 110,
   "id": "7a1cbfea",
   "metadata": {},
   "outputs": [],
   "source": [
    "test_dataset = bert.reset_index(drop=True)\n",
    "test_set = PredictionDataset(test_dataset, tokenizer, max_len)\n",
    "testing_loader = DataLoader(test_set, batch_size=100)"
   ]
  },
  {
   "cell_type": "code",
   "execution_count": null,
   "id": "76110a7d",
   "metadata": {},
   "outputs": [],
   "source": [
    "# Concatenate the predictions with the test dataset\n",
    "pred_outputs = do_prediction(testing_loader)\n",
    "pred_outputs = (np.array(pred_outputs) >= 0.5).astype(int)\n",
    "preds_df = pd.DataFrame(pred_outputs, columns =['Meinung', 'Publikation', 'Veranstaltung'])\n",
    "#bert.index = bert.index.to_flat_index()\n",
    "#df_concat = pd.concat([bert, preds_df], axis=1)\n",
    "\n",
    "\n",
    "saved_index = bert.index\n",
    "bert = bert.reset_index(drop=True)\n",
    "preds_df = preds_df.reset_index(drop=True)\n",
    "df_concat = pd.concat([bert, preds_df], axis=1)\n",
    "df_concat.index = saved_index"
   ]
  },
  {
   "cell_type": "code",
   "execution_count": null,
   "id": "9626989c",
   "metadata": {},
   "outputs": [],
   "source": [
    "df_concat.shape"
   ]
  },
  {
   "cell_type": "code",
   "execution_count": null,
   "id": "ab28cb95",
   "metadata": {},
   "outputs": [],
   "source": []
  },
  {
   "cell_type": "code",
   "execution_count": 111,
   "id": "01326788",
   "metadata": {},
   "outputs": [
    {
     "name": "stdout",
     "output_type": "stream",
     "text": [
      "                                                content  \\\n",
      "0     <p>Publish your data with confidence! </p><p>O...   \n",
      "1     <p><a href=\"https://mastodon.green/tags/NewSpe...   \n",
      "2     <p><a href=\"https://mastodon.green/tags/NewSpe...   \n",
      "3     <p>Learn about FAIR-principled stewardship of ...   \n",
      "4     <p>On June 26th, <span class=\"h-card\"><a href=...   \n",
      "...                                                 ...   \n",
      "7155  <p>My <a href=\"https://scholar.social/tags/int...   \n",
      "7156  <p>Alright found a better home! Here's another...   \n",
      "7157  <p>At the <a href=\"https://mastodon.social/tag...   \n",
      "7158  <p>My social media philosophy...<br>- 75% work...   \n",
      "7159  <p>Hello <a href=\"https://berlin.social/tags/C...   \n",
      "\n",
      "                                          Clean_Content  Meinung  Publikation  \\\n",
      "0     publish your data with confidence our data pub...      0.0          0.0   \n",
      "1     newspeciesnew jumping spider from china just j...      0.0          1.0   \n",
      "2     newspecies new freshwater mussel from north ca...      0.0          1.0   \n",
      "3     learn about fair principled stewardship of mac...      0.0          0.0   \n",
      "4     on june th danielvanstrien machine learning li...      0.0          0.0   \n",
      "...                                                 ...      ...          ...   \n",
      "7155  my introduction i m daniel bangert national op...      NaN          NaN   \n",
      "7156  alright found a better home here s another int...      NaN          NaN   \n",
      "7157  at the scenarioservices team at the iiasa ener...      NaN          NaN   \n",
      "7158  my social media philosophy work research on cl...      NaN          NaN   \n",
      "7159  hello chemtoots since we re doing introduction...      NaN          NaN   \n",
      "\n",
      "      Veranstaltung  \n",
      "0               1.0  \n",
      "1               0.0  \n",
      "2               0.0  \n",
      "3               1.0  \n",
      "4               1.0  \n",
      "...             ...  \n",
      "7155            NaN  \n",
      "7156            NaN  \n",
      "7157            NaN  \n",
      "7158            NaN  \n",
      "7159            NaN  \n",
      "\n",
      "[7160 rows x 5 columns]\n"
     ]
    }
   ],
   "source": [
    "df_new_reset = df_new.reset_index(drop=True)\n",
    "preds_df_reset = preds_df.reset_index(drop=True)\n",
    "\n",
    "result2 = pd.concat([df_new_reset, preds_df_reset], axis=1)"
   ]
  },
  {
   "cell_type": "code",
   "execution_count": 112,
   "id": "968920d7",
   "metadata": {},
   "outputs": [],
   "source": [
    "actual = np.array(preds_df)\n",
    "actual_idx = np.argmax(actual, axis=1)\n",
    "target_list = ['Meinung','Publikation', 'Veranstaltung']\n",
    "\n",
    "actual_labels = [target_list[idx] for idx in actual_idx]"
   ]
  },
  {
   "cell_type": "code",
   "execution_count": 123,
   "id": "ee0f0f00",
   "metadata": {},
   "outputs": [
    {
     "name": "stdout",
     "output_type": "stream",
     "text": [
      "Duplikate im Index von df_new gefunden!\n"
     ]
    }
   ],
   "source": [
    "if df.index.duplicated().any():\n",
    "    print(\"Duplikate im Index von df_new gefunden!\")\n",
    "    df = df.reset_index(drop=True)\n",
    "    \n",
    "    \n",
    "if preds_df.index.duplicated().any():\n",
    "    print(\"Duplikate im Index von preds_df gefunden!\")\n",
    "    preds_df = preds_df.reset_index(drop=True)"
   ]
  },
  {
   "cell_type": "code",
   "execution_count": 128,
   "id": "a46ccfca",
   "metadata": {},
   "outputs": [
    {
     "name": "stdout",
     "output_type": "stream",
     "text": [
      "Index(['Unnamed: 0', 'id', 'created_at', 'in_reply_to_id',\n",
      "       'in_reply_to_account_id', 'sensitive', 'spoiler_text', 'visibility',\n",
      "       'language', 'uri', 'url', 'replies_count', 'reblogs_count',\n",
      "       'favourites_count', 'edited_at', 'content', 'reblog', 'account',\n",
      "       'media_attachments', 'mentions', 'tags', 'emojis', 'card', 'poll',\n",
      "       'application', 'limited', 'local_only', 'content_type', 'quote',\n",
      "       'category'],\n",
      "      dtype='object')\n"
     ]
    }
   ],
   "source": [
    "df.index = df.index.to_flat_index()\n",
    "result2 = pd.concat([df, preds_df], axis=1)\n",
    "df_concat_string = result2.to_string(header=False, index=False, index_names=False, justify='left', col_space=1, max_colwidth=None)\n",
    "result_good = pd.concat([df, pd.Series(actual_labels)], axis=1)\n",
    "\n",
    "result2.head(10)\n",
    "result_good.shape\n",
    "result_good = result_good.rename(columns={0: 'category'})\n",
    "print(result_good.columns)\n"
   ]
  },
  {
   "cell_type": "code",
   "execution_count": 157,
   "id": "90622dac",
   "metadata": {},
   "outputs": [
    {
     "ename": "KeyError",
     "evalue": "\"['id', 'created_at', 'account', 'replies_count', 'reblogs_count', 'favourites_count', 'language', 'mentions', 'tags', 'emojis', 'category'] not in index\"",
     "output_type": "error",
     "traceback": [
      "\u001b[0;31m---------------------------------------------------------------------------\u001b[0m",
      "\u001b[0;31mKeyError\u001b[0m                                  Traceback (most recent call last)",
      "Cell \u001b[0;32mIn[157], line 4\u001b[0m\n\u001b[1;32m      1\u001b[0m \u001b[38;5;66;03m# Erstellt einen neuen DataFrame mit nur den gewünschten Spalten\u001b[39;00m\n\u001b[1;32m      2\u001b[0m selected_columns \u001b[38;5;241m=\u001b[39m [\u001b[38;5;124m'\u001b[39m\u001b[38;5;124mid\u001b[39m\u001b[38;5;124m'\u001b[39m, \u001b[38;5;124m'\u001b[39m\u001b[38;5;124mcreated_at\u001b[39m\u001b[38;5;124m'\u001b[39m, \u001b[38;5;124m'\u001b[39m\u001b[38;5;124mcontent\u001b[39m\u001b[38;5;124m'\u001b[39m, \u001b[38;5;124m'\u001b[39m\u001b[38;5;124maccount\u001b[39m\u001b[38;5;124m'\u001b[39m, \u001b[38;5;124m'\u001b[39m\u001b[38;5;124mreplies_count\u001b[39m\u001b[38;5;124m'\u001b[39m, \u001b[38;5;124m'\u001b[39m\u001b[38;5;124mreblogs_count\u001b[39m\u001b[38;5;124m'\u001b[39m, \n\u001b[1;32m      3\u001b[0m                     \u001b[38;5;124m'\u001b[39m\u001b[38;5;124mfavourites_count\u001b[39m\u001b[38;5;124m'\u001b[39m, \u001b[38;5;124m'\u001b[39m\u001b[38;5;124mlanguage\u001b[39m\u001b[38;5;124m'\u001b[39m, \u001b[38;5;124m'\u001b[39m\u001b[38;5;124mmentions\u001b[39m\u001b[38;5;124m'\u001b[39m, \u001b[38;5;124m'\u001b[39m\u001b[38;5;124mtags\u001b[39m\u001b[38;5;124m'\u001b[39m, \u001b[38;5;124m'\u001b[39m\u001b[38;5;124memojis\u001b[39m\u001b[38;5;124m'\u001b[39m, \u001b[38;5;124m'\u001b[39m\u001b[38;5;124mcategory\u001b[39m\u001b[38;5;124m'\u001b[39m]\n\u001b[0;32m----> 4\u001b[0m filtered_df \u001b[38;5;241m=\u001b[39m \u001b[43mresult_good\u001b[49m\u001b[43m[\u001b[49m\u001b[43mselected_columns\u001b[49m\u001b[43m]\u001b[49m\n\u001b[1;32m      6\u001b[0m \u001b[38;5;66;03m# Speichert den DataFrame als CSV-Datei\u001b[39;00m\n\u001b[1;32m      7\u001b[0m filtered_df\u001b[38;5;241m.\u001b[39mto_csv(\u001b[38;5;124m'\u001b[39m\u001b[38;5;124m../results/filtered_data.csv\u001b[39m\u001b[38;5;124m'\u001b[39m, index\u001b[38;5;241m=\u001b[39m\u001b[38;5;28;01mFalse\u001b[39;00m)\n",
      "File \u001b[0;32m~/anaconda3/lib/python3.10/site-packages/pandas/core/frame.py:3813\u001b[0m, in \u001b[0;36mDataFrame.__getitem__\u001b[0;34m(self, key)\u001b[0m\n\u001b[1;32m   3811\u001b[0m     \u001b[38;5;28;01mif\u001b[39;00m is_iterator(key):\n\u001b[1;32m   3812\u001b[0m         key \u001b[38;5;241m=\u001b[39m \u001b[38;5;28mlist\u001b[39m(key)\n\u001b[0;32m-> 3813\u001b[0m     indexer \u001b[38;5;241m=\u001b[39m \u001b[38;5;28;43mself\u001b[39;49m\u001b[38;5;241;43m.\u001b[39;49m\u001b[43mcolumns\u001b[49m\u001b[38;5;241;43m.\u001b[39;49m\u001b[43m_get_indexer_strict\u001b[49m\u001b[43m(\u001b[49m\u001b[43mkey\u001b[49m\u001b[43m,\u001b[49m\u001b[43m \u001b[49m\u001b[38;5;124;43m\"\u001b[39;49m\u001b[38;5;124;43mcolumns\u001b[39;49m\u001b[38;5;124;43m\"\u001b[39;49m\u001b[43m)\u001b[49m[\u001b[38;5;241m1\u001b[39m]\n\u001b[1;32m   3815\u001b[0m \u001b[38;5;66;03m# take() does not accept boolean indexers\u001b[39;00m\n\u001b[1;32m   3816\u001b[0m \u001b[38;5;28;01mif\u001b[39;00m \u001b[38;5;28mgetattr\u001b[39m(indexer, \u001b[38;5;124m\"\u001b[39m\u001b[38;5;124mdtype\u001b[39m\u001b[38;5;124m\"\u001b[39m, \u001b[38;5;28;01mNone\u001b[39;00m) \u001b[38;5;241m==\u001b[39m \u001b[38;5;28mbool\u001b[39m:\n",
      "File \u001b[0;32m~/anaconda3/lib/python3.10/site-packages/pandas/core/indexes/base.py:6070\u001b[0m, in \u001b[0;36mIndex._get_indexer_strict\u001b[0;34m(self, key, axis_name)\u001b[0m\n\u001b[1;32m   6067\u001b[0m \u001b[38;5;28;01melse\u001b[39;00m:\n\u001b[1;32m   6068\u001b[0m     keyarr, indexer, new_indexer \u001b[38;5;241m=\u001b[39m \u001b[38;5;28mself\u001b[39m\u001b[38;5;241m.\u001b[39m_reindex_non_unique(keyarr)\n\u001b[0;32m-> 6070\u001b[0m \u001b[38;5;28;43mself\u001b[39;49m\u001b[38;5;241;43m.\u001b[39;49m\u001b[43m_raise_if_missing\u001b[49m\u001b[43m(\u001b[49m\u001b[43mkeyarr\u001b[49m\u001b[43m,\u001b[49m\u001b[43m \u001b[49m\u001b[43mindexer\u001b[49m\u001b[43m,\u001b[49m\u001b[43m \u001b[49m\u001b[43maxis_name\u001b[49m\u001b[43m)\u001b[49m\n\u001b[1;32m   6072\u001b[0m keyarr \u001b[38;5;241m=\u001b[39m \u001b[38;5;28mself\u001b[39m\u001b[38;5;241m.\u001b[39mtake(indexer)\n\u001b[1;32m   6073\u001b[0m \u001b[38;5;28;01mif\u001b[39;00m \u001b[38;5;28misinstance\u001b[39m(key, Index):\n\u001b[1;32m   6074\u001b[0m     \u001b[38;5;66;03m# GH 42790 - Preserve name from an Index\u001b[39;00m\n",
      "File \u001b[0;32m~/anaconda3/lib/python3.10/site-packages/pandas/core/indexes/base.py:6133\u001b[0m, in \u001b[0;36mIndex._raise_if_missing\u001b[0;34m(self, key, indexer, axis_name)\u001b[0m\n\u001b[1;32m   6130\u001b[0m     \u001b[38;5;28;01mraise\u001b[39;00m \u001b[38;5;167;01mKeyError\u001b[39;00m(\u001b[38;5;124mf\u001b[39m\u001b[38;5;124m\"\u001b[39m\u001b[38;5;124mNone of [\u001b[39m\u001b[38;5;132;01m{\u001b[39;00mkey\u001b[38;5;132;01m}\u001b[39;00m\u001b[38;5;124m] are in the [\u001b[39m\u001b[38;5;132;01m{\u001b[39;00maxis_name\u001b[38;5;132;01m}\u001b[39;00m\u001b[38;5;124m]\u001b[39m\u001b[38;5;124m\"\u001b[39m)\n\u001b[1;32m   6132\u001b[0m not_found \u001b[38;5;241m=\u001b[39m \u001b[38;5;28mlist\u001b[39m(ensure_index(key)[missing_mask\u001b[38;5;241m.\u001b[39mnonzero()[\u001b[38;5;241m0\u001b[39m]]\u001b[38;5;241m.\u001b[39munique())\n\u001b[0;32m-> 6133\u001b[0m \u001b[38;5;28;01mraise\u001b[39;00m \u001b[38;5;167;01mKeyError\u001b[39;00m(\u001b[38;5;124mf\u001b[39m\u001b[38;5;124m\"\u001b[39m\u001b[38;5;132;01m{\u001b[39;00mnot_found\u001b[38;5;132;01m}\u001b[39;00m\u001b[38;5;124m not in index\u001b[39m\u001b[38;5;124m\"\u001b[39m)\n",
      "\u001b[0;31mKeyError\u001b[0m: \"['id', 'created_at', 'account', 'replies_count', 'reblogs_count', 'favourites_count', 'language', 'mentions', 'tags', 'emojis', 'category'] not in index\""
     ]
    }
   ],
   "source": [
    "# Erstellt einen neuen DataFrame mit nur den gewünschten Spalten\n",
    "selected_columns = ['id', 'created_at', 'content', 'account', 'replies_count', 'reblogs_count', \n",
    "                    'favourites_count', 'language', 'mentions', 'tags', 'emojis', 'category']\n",
    "filtered_df = result_good[selected_columns]\n",
    "\n",
    "# Speichert den DataFrame als CSV-Datei\n",
    "filtered_df.to_csv('../results/filtered_data.csv', index=False)\n",
    "\n",
    "filtered_df.head()"
   ]
  },
  {
   "cell_type": "code",
   "execution_count": 131,
   "id": "06ae7d7c",
   "metadata": {},
   "outputs": [
    {
     "name": "stdout",
     "output_type": "stream",
     "text": [
      "Anzahl der Duplikate: 445\n"
     ]
    }
   ],
   "source": [
    "duplicates = filtered_df.duplicated()\n",
    "\n",
    "# Anzahl der Duplikate\n",
    "num_duplicates = duplicates.sum()\n",
    "\n",
    "print(f\"Anzahl der Duplikate: {num_duplicates}\")"
   ]
  },
  {
   "cell_type": "code",
   "execution_count": 141,
   "id": "1f1cf0d7",
   "metadata": {},
   "outputs": [
    {
     "data": {
      "text/plain": [
       "(7145, 12)"
      ]
     },
     "execution_count": 141,
     "metadata": {},
     "output_type": "execute_result"
    }
   ],
   "source": [
    "df_no_duplicates = filtered_df.drop_duplicates()\n",
    "df_no_duplicates.shape"
   ]
  },
  {
   "cell_type": "code",
   "execution_count": 143,
   "id": "1ee6f319",
   "metadata": {},
   "outputs": [],
   "source": [
    "# Speichert den DataFrame als CSV-Datei\n",
    "df_no_duplicates.to_csv('../results/categorized_toots.csv', index=False)"
   ]
  },
  {
   "cell_type": "code",
   "execution_count": 146,
   "id": "8aedbd21",
   "metadata": {},
   "outputs": [
    {
     "name": "stderr",
     "output_type": "stream",
     "text": [
      "/var/folders/2s/fkmsmwt93ln3hc_sf08vff_m0000gn/T/ipykernel_35922/2632334103.py:1: SettingWithCopyWarning: \n",
      "A value is trying to be set on a copy of a slice from a DataFrame.\n",
      "Try using .loc[row_indexer,col_indexer] = value instead\n",
      "\n",
      "See the caveats in the documentation: https://pandas.pydata.org/pandas-docs/stable/user_guide/indexing.html#returning-a-view-versus-a-copy\n",
      "  df_no_duplicates['content'] = df_no_duplicates['content'].apply(analysis.preprocess_text)\n"
     ]
    }
   ],
   "source": [
    "df_no_duplicates['content'] = df_no_duplicates['content'].apply(analysis.preprocess_text)"
   ]
  },
  {
   "cell_type": "code",
   "execution_count": 147,
   "id": "a069e540",
   "metadata": {},
   "outputs": [],
   "source": [
    "df_no_duplicates.to_csv('../results/categorized_toots_preprocessed.csv', index=False)\n"
   ]
  },
  {
   "cell_type": "code",
   "execution_count": 149,
   "id": "0023dacf",
   "metadata": {},
   "outputs": [
    {
     "data": {
      "text/html": [
       "<div>\n",
       "<style scoped>\n",
       "    .dataframe tbody tr th:only-of-type {\n",
       "        vertical-align: middle;\n",
       "    }\n",
       "\n",
       "    .dataframe tbody tr th {\n",
       "        vertical-align: top;\n",
       "    }\n",
       "\n",
       "    .dataframe thead th {\n",
       "        text-align: right;\n",
       "    }\n",
       "</style>\n",
       "<table border=\"1\" class=\"dataframe\">\n",
       "  <thead>\n",
       "    <tr style=\"text-align: right;\">\n",
       "      <th></th>\n",
       "      <th>id</th>\n",
       "      <th>created_at</th>\n",
       "      <th>content</th>\n",
       "      <th>account</th>\n",
       "      <th>replies_count</th>\n",
       "      <th>reblogs_count</th>\n",
       "      <th>favourites_count</th>\n",
       "      <th>language</th>\n",
       "      <th>mentions</th>\n",
       "      <th>tags</th>\n",
       "      <th>emojis</th>\n",
       "      <th>category</th>\n",
       "    </tr>\n",
       "  </thead>\n",
       "  <tbody>\n",
       "    <tr>\n",
       "      <th>0</th>\n",
       "      <td>110548966831726201</td>\n",
       "      <td>2023-06-15T15:36:04.000Z</td>\n",
       "      <td>publish your data with confidence our data pub...</td>\n",
       "      <td>{'id': '109342933770338406', 'username': 'epim...</td>\n",
       "      <td>0</td>\n",
       "      <td>0</td>\n",
       "      <td>0</td>\n",
       "      <td>en</td>\n",
       "      <td>[]</td>\n",
       "      <td>[{'name': 'fairdata', 'url': 'https://toot.wal...</td>\n",
       "      <td>[]</td>\n",
       "      <td>Veranstaltung</td>\n",
       "    </tr>\n",
       "    <tr>\n",
       "      <th>1</th>\n",
       "      <td>110547499407785470</td>\n",
       "      <td>2023-06-15T09:22:54.000Z</td>\n",
       "      <td>newspecies new jumping spider from china just ...</td>\n",
       "      <td>{'id': '109327578474357620', 'username': 'plaz...</td>\n",
       "      <td>0</td>\n",
       "      <td>5</td>\n",
       "      <td>0</td>\n",
       "      <td>en</td>\n",
       "      <td>[]</td>\n",
       "      <td>[{'name': 'china', 'url': 'https://toot.wales/...</td>\n",
       "      <td>[]</td>\n",
       "      <td>Publikation</td>\n",
       "    </tr>\n",
       "    <tr>\n",
       "      <th>2</th>\n",
       "      <td>110547331904520997</td>\n",
       "      <td>2023-06-15T08:40:18.000Z</td>\n",
       "      <td>newspecies new freshwater mussel from north ca...</td>\n",
       "      <td>{'id': '109327578474357620', 'username': 'plaz...</td>\n",
       "      <td>0</td>\n",
       "      <td>1</td>\n",
       "      <td>0</td>\n",
       "      <td>en</td>\n",
       "      <td>[]</td>\n",
       "      <td>[{'name': 'usa', 'url': 'https://toot.wales/ta...</td>\n",
       "      <td>[]</td>\n",
       "      <td>Publikation</td>\n",
       "    </tr>\n",
       "    <tr>\n",
       "      <th>3</th>\n",
       "      <td>110544344595534282</td>\n",
       "      <td>2023-06-14T20:00:36.000Z</td>\n",
       "      <td>learn about fair principled stewardship of mac...</td>\n",
       "      <td>{'id': '109405769972797007', 'username': 'donn...</td>\n",
       "      <td>0</td>\n",
       "      <td>2</td>\n",
       "      <td>0</td>\n",
       "      <td>en</td>\n",
       "      <td>[{'id': '109427917286258110', 'username': 'lib...</td>\n",
       "      <td>[{'name': 'fairdata', 'url': 'https://toot.wal...</td>\n",
       "      <td>[]</td>\n",
       "      <td>Veranstaltung</td>\n",
       "    </tr>\n",
       "    <tr>\n",
       "      <th>4</th>\n",
       "      <td>110525037439900079</td>\n",
       "      <td>2023-06-11T10:10:32.000Z</td>\n",
       "      <td>on june th danielvanstrien machine learning li...</td>\n",
       "      <td>{'id': '109427917286258110', 'username': 'libc...</td>\n",
       "      <td>0</td>\n",
       "      <td>1</td>\n",
       "      <td>0</td>\n",
       "      <td>en</td>\n",
       "      <td>[{'id': '109593675526842439', 'username': 'dan...</td>\n",
       "      <td>[{'name': 'research', 'url': 'https://toot.wal...</td>\n",
       "      <td>[]</td>\n",
       "      <td>Veranstaltung</td>\n",
       "    </tr>\n",
       "    <tr>\n",
       "      <th>5</th>\n",
       "      <td>110514525776306970</td>\n",
       "      <td>2023-06-09T13:37:17.000Z</td>\n",
       "      <td>newspecies new frog from australia just hopped...</td>\n",
       "      <td>{'id': '109327578474357620', 'username': 'plaz...</td>\n",
       "      <td>0</td>\n",
       "      <td>1</td>\n",
       "      <td>0</td>\n",
       "      <td>en</td>\n",
       "      <td>[]</td>\n",
       "      <td>[{'name': 'australia', 'url': 'https://toot.wa...</td>\n",
       "      <td>[]</td>\n",
       "      <td>Publikation</td>\n",
       "    </tr>\n",
       "    <tr>\n",
       "      <th>6</th>\n",
       "      <td>110513931459342417</td>\n",
       "      <td>2023-06-09T11:06:08.000Z</td>\n",
       "      <td>newspecies new robber fly from mozambique just...</td>\n",
       "      <td>{'id': '109327578474357620', 'username': 'plaz...</td>\n",
       "      <td>0</td>\n",
       "      <td>2</td>\n",
       "      <td>0</td>\n",
       "      <td>en</td>\n",
       "      <td>[]</td>\n",
       "      <td>[{'name': 'mozambique', 'url': 'https://toot.w...</td>\n",
       "      <td>[]</td>\n",
       "      <td>Publikation</td>\n",
       "    </tr>\n",
       "    <tr>\n",
       "      <th>7</th>\n",
       "      <td>110513074859534462</td>\n",
       "      <td>2023-06-09T07:28:17.000Z</td>\n",
       "      <td>wie digitalekommunikation nicht nur im kirchli...</td>\n",
       "      <td>{'id': '75387', 'username': 'JoergSorge', 'acc...</td>\n",
       "      <td>0</td>\n",
       "      <td>3</td>\n",
       "      <td>0</td>\n",
       "      <td>de</td>\n",
       "      <td>[{'id': '39339', 'username': 'luki', 'url': 'h...</td>\n",
       "      <td>[{'name': 'digitalekommunikation', 'url': 'htt...</td>\n",
       "      <td>[]</td>\n",
       "      <td>Publikation</td>\n",
       "    </tr>\n",
       "    <tr>\n",
       "      <th>8</th>\n",
       "      <td>110512813901578105</td>\n",
       "      <td>2023-06-09T06:21:56.000Z</td>\n",
       "      <td>newspecies parodia hofackeriana a newly discov...</td>\n",
       "      <td>{'id': '109327578474357620', 'username': 'plaz...</td>\n",
       "      <td>0</td>\n",
       "      <td>2</td>\n",
       "      <td>0</td>\n",
       "      <td>en</td>\n",
       "      <td>[]</td>\n",
       "      <td>[{'name': 'brazil', 'url': 'https://toot.wales...</td>\n",
       "      <td>[]</td>\n",
       "      <td>Publikation</td>\n",
       "    </tr>\n",
       "    <tr>\n",
       "      <th>9</th>\n",
       "      <td>110512744394503540</td>\n",
       "      <td>2023-06-09T06:04:15.000Z</td>\n",
       "      <td>newspecies new dragonfly from thailand just la...</td>\n",
       "      <td>{'id': '109327578474357620', 'username': 'plaz...</td>\n",
       "      <td>0</td>\n",
       "      <td>1</td>\n",
       "      <td>0</td>\n",
       "      <td>en</td>\n",
       "      <td>[]</td>\n",
       "      <td>[{'name': 'japan', 'url': 'https://toot.wales/...</td>\n",
       "      <td>[]</td>\n",
       "      <td>Veranstaltung</td>\n",
       "    </tr>\n",
       "    <tr>\n",
       "      <th>10</th>\n",
       "      <td>110508989753914957</td>\n",
       "      <td>2023-06-08T14:09:21.000Z</td>\n",
       "      <td>it s my pleasure to share a three part blog po...</td>\n",
       "      <td>{'id': '109306942621805574', 'username': 'debs...</td>\n",
       "      <td>1</td>\n",
       "      <td>4</td>\n",
       "      <td>0</td>\n",
       "      <td>en</td>\n",
       "      <td>[]</td>\n",
       "      <td>[{'name': 'fairdata', 'url': 'https://toot.wal...</td>\n",
       "      <td>[]</td>\n",
       "      <td>Veranstaltung</td>\n",
       "    </tr>\n",
       "    <tr>\n",
       "      <th>11</th>\n",
       "      <td>110503724650689218</td>\n",
       "      <td>2023-06-07T15:50:21.000Z</td>\n",
       "      <td>the ports past and present team have been work...</td>\n",
       "      <td>{'id': '109306942621805574', 'username': 'debs...</td>\n",
       "      <td>0</td>\n",
       "      <td>3</td>\n",
       "      <td>0</td>\n",
       "      <td>en</td>\n",
       "      <td>[{'id': '109299278366127744', 'username': 'scr...</td>\n",
       "      <td>[{'name': 'sculpure', 'url': 'https://toot.wal...</td>\n",
       "      <td>[]</td>\n",
       "      <td>Veranstaltung</td>\n",
       "    </tr>\n",
       "    <tr>\n",
       "      <th>12</th>\n",
       "      <td>110501985247953427</td>\n",
       "      <td>2023-06-07T08:28:03.000Z</td>\n",
       "      <td>do you have expertise in datamanagement fairda...</td>\n",
       "      <td>{'id': '109551463956290488', 'username': 'Leib...</td>\n",
       "      <td>0</td>\n",
       "      <td>1</td>\n",
       "      <td>0</td>\n",
       "      <td>en</td>\n",
       "      <td>[]</td>\n",
       "      <td>[{'name': 'ScienceJobs', 'url': 'https://toot....</td>\n",
       "      <td>[]</td>\n",
       "      <td>Veranstaltung</td>\n",
       "    </tr>\n",
       "    <tr>\n",
       "      <th>13</th>\n",
       "      <td>110498117517405016</td>\n",
       "      <td>2023-06-06T16:04:27.000Z</td>\n",
       "      <td>joanofarchives is presenting the worldfair pro...</td>\n",
       "      <td>{'id': '109472765974683251', 'username': 'beth...</td>\n",
       "      <td>0</td>\n",
       "      <td>2</td>\n",
       "      <td>0</td>\n",
       "      <td>en</td>\n",
       "      <td>[{'id': '109382734572820425', 'username': 'joa...</td>\n",
       "      <td>[{'name': 'dariah2023', 'url': 'https://toot.w...</td>\n",
       "      <td>[]</td>\n",
       "      <td>Veranstaltung</td>\n",
       "    </tr>\n",
       "    <tr>\n",
       "      <th>14</th>\n",
       "      <td>110497768456816647</td>\n",
       "      <td>2023-06-06T14:35:38.000Z</td>\n",
       "      <td>tips on making your data fair findable accessi...</td>\n",
       "      <td>{'id': '109383547354001944', 'username': 'ukri...</td>\n",
       "      <td>0</td>\n",
       "      <td>1</td>\n",
       "      <td>0</td>\n",
       "      <td>en</td>\n",
       "      <td>[]</td>\n",
       "      <td>[{'name': 'openresearch', 'url': 'https://toot...</td>\n",
       "      <td>[]</td>\n",
       "      <td>Publikation</td>\n",
       "    </tr>\n",
       "    <tr>\n",
       "      <th>15</th>\n",
       "      <td>110475119906741301</td>\n",
       "      <td>2023-06-02T14:35:51.000Z</td>\n",
       "      <td>newspecies another new frog from india just ju...</td>\n",
       "      <td>{'id': '109327578474357620', 'username': 'plaz...</td>\n",
       "      <td>0</td>\n",
       "      <td>1</td>\n",
       "      <td>0</td>\n",
       "      <td>en</td>\n",
       "      <td>[]</td>\n",
       "      <td>[{'name': 'india', 'url': 'https://toot.wales/...</td>\n",
       "      <td>[]</td>\n",
       "      <td>Publikation</td>\n",
       "    </tr>\n",
       "    <tr>\n",
       "      <th>16</th>\n",
       "      <td>110475102693768316</td>\n",
       "      <td>2023-06-02T14:31:28.000Z</td>\n",
       "      <td>newspecies new frog from peru just snuck in on...</td>\n",
       "      <td>{'id': '109327578474357620', 'username': 'plaz...</td>\n",
       "      <td>0</td>\n",
       "      <td>1</td>\n",
       "      <td>0</td>\n",
       "      <td>en</td>\n",
       "      <td>[]</td>\n",
       "      <td>[{'name': 'peru', 'url': 'https://toot.wales/t...</td>\n",
       "      <td>[]</td>\n",
       "      <td>Publikation</td>\n",
       "    </tr>\n",
       "    <tr>\n",
       "      <th>17</th>\n",
       "      <td>110474927124286775</td>\n",
       "      <td>2023-06-02T13:46:49.000Z</td>\n",
       "      <td>newspecies corybas hamiguitanensis a newly dis...</td>\n",
       "      <td>{'id': '109327578474357620', 'username': 'plaz...</td>\n",
       "      <td>0</td>\n",
       "      <td>0</td>\n",
       "      <td>0</td>\n",
       "      <td>en</td>\n",
       "      <td>[]</td>\n",
       "      <td>[{'name': 'philippines', 'url': 'https://toot....</td>\n",
       "      <td>[]</td>\n",
       "      <td>Publikation</td>\n",
       "    </tr>\n",
       "    <tr>\n",
       "      <th>18</th>\n",
       "      <td>110474832844887353</td>\n",
       "      <td>2023-06-02T13:22:51.000Z</td>\n",
       "      <td>newspecies new plant bug from taiwan just show...</td>\n",
       "      <td>{'id': '109327578474357620', 'username': 'plaz...</td>\n",
       "      <td>0</td>\n",
       "      <td>2</td>\n",
       "      <td>0</td>\n",
       "      <td>en</td>\n",
       "      <td>[]</td>\n",
       "      <td>[{'name': 'taiwan', 'url': 'https://toot.wales...</td>\n",
       "      <td>[]</td>\n",
       "      <td>Publikation</td>\n",
       "    </tr>\n",
       "    <tr>\n",
       "      <th>19</th>\n",
       "      <td>110474822760395899</td>\n",
       "      <td>2023-06-02T13:20:17.000Z</td>\n",
       "      <td>newspecies new fossil turtle from tennessee us...</td>\n",
       "      <td>{'id': '109327578474357620', 'username': 'plaz...</td>\n",
       "      <td>0</td>\n",
       "      <td>1</td>\n",
       "      <td>0</td>\n",
       "      <td>en</td>\n",
       "      <td>[]</td>\n",
       "      <td>[{'name': 'fossil', 'url': 'https://toot.wales...</td>\n",
       "      <td>[]</td>\n",
       "      <td>Publikation</td>\n",
       "    </tr>\n",
       "  </tbody>\n",
       "</table>\n",
       "</div>"
      ],
      "text/plain": [
       "                    id                created_at  \\\n",
       "0   110548966831726201  2023-06-15T15:36:04.000Z   \n",
       "1   110547499407785470  2023-06-15T09:22:54.000Z   \n",
       "2   110547331904520997  2023-06-15T08:40:18.000Z   \n",
       "3   110544344595534282  2023-06-14T20:00:36.000Z   \n",
       "4   110525037439900079  2023-06-11T10:10:32.000Z   \n",
       "5   110514525776306970  2023-06-09T13:37:17.000Z   \n",
       "6   110513931459342417  2023-06-09T11:06:08.000Z   \n",
       "7   110513074859534462  2023-06-09T07:28:17.000Z   \n",
       "8   110512813901578105  2023-06-09T06:21:56.000Z   \n",
       "9   110512744394503540  2023-06-09T06:04:15.000Z   \n",
       "10  110508989753914957  2023-06-08T14:09:21.000Z   \n",
       "11  110503724650689218  2023-06-07T15:50:21.000Z   \n",
       "12  110501985247953427  2023-06-07T08:28:03.000Z   \n",
       "13  110498117517405016  2023-06-06T16:04:27.000Z   \n",
       "14  110497768456816647  2023-06-06T14:35:38.000Z   \n",
       "15  110475119906741301  2023-06-02T14:35:51.000Z   \n",
       "16  110475102693768316  2023-06-02T14:31:28.000Z   \n",
       "17  110474927124286775  2023-06-02T13:46:49.000Z   \n",
       "18  110474832844887353  2023-06-02T13:22:51.000Z   \n",
       "19  110474822760395899  2023-06-02T13:20:17.000Z   \n",
       "\n",
       "                                              content  \\\n",
       "0   publish your data with confidence our data pub...   \n",
       "1   newspecies new jumping spider from china just ...   \n",
       "2   newspecies new freshwater mussel from north ca...   \n",
       "3   learn about fair principled stewardship of mac...   \n",
       "4   on june th danielvanstrien machine learning li...   \n",
       "5   newspecies new frog from australia just hopped...   \n",
       "6   newspecies new robber fly from mozambique just...   \n",
       "7   wie digitalekommunikation nicht nur im kirchli...   \n",
       "8   newspecies parodia hofackeriana a newly discov...   \n",
       "9   newspecies new dragonfly from thailand just la...   \n",
       "10  it s my pleasure to share a three part blog po...   \n",
       "11  the ports past and present team have been work...   \n",
       "12  do you have expertise in datamanagement fairda...   \n",
       "13  joanofarchives is presenting the worldfair pro...   \n",
       "14  tips on making your data fair findable accessi...   \n",
       "15  newspecies another new frog from india just ju...   \n",
       "16  newspecies new frog from peru just snuck in on...   \n",
       "17  newspecies corybas hamiguitanensis a newly dis...   \n",
       "18  newspecies new plant bug from taiwan just show...   \n",
       "19  newspecies new fossil turtle from tennessee us...   \n",
       "\n",
       "                                              account  replies_count  \\\n",
       "0   {'id': '109342933770338406', 'username': 'epim...              0   \n",
       "1   {'id': '109327578474357620', 'username': 'plaz...              0   \n",
       "2   {'id': '109327578474357620', 'username': 'plaz...              0   \n",
       "3   {'id': '109405769972797007', 'username': 'donn...              0   \n",
       "4   {'id': '109427917286258110', 'username': 'libc...              0   \n",
       "5   {'id': '109327578474357620', 'username': 'plaz...              0   \n",
       "6   {'id': '109327578474357620', 'username': 'plaz...              0   \n",
       "7   {'id': '75387', 'username': 'JoergSorge', 'acc...              0   \n",
       "8   {'id': '109327578474357620', 'username': 'plaz...              0   \n",
       "9   {'id': '109327578474357620', 'username': 'plaz...              0   \n",
       "10  {'id': '109306942621805574', 'username': 'debs...              1   \n",
       "11  {'id': '109306942621805574', 'username': 'debs...              0   \n",
       "12  {'id': '109551463956290488', 'username': 'Leib...              0   \n",
       "13  {'id': '109472765974683251', 'username': 'beth...              0   \n",
       "14  {'id': '109383547354001944', 'username': 'ukri...              0   \n",
       "15  {'id': '109327578474357620', 'username': 'plaz...              0   \n",
       "16  {'id': '109327578474357620', 'username': 'plaz...              0   \n",
       "17  {'id': '109327578474357620', 'username': 'plaz...              0   \n",
       "18  {'id': '109327578474357620', 'username': 'plaz...              0   \n",
       "19  {'id': '109327578474357620', 'username': 'plaz...              0   \n",
       "\n",
       "    reblogs_count  favourites_count language  \\\n",
       "0               0                 0       en   \n",
       "1               5                 0       en   \n",
       "2               1                 0       en   \n",
       "3               2                 0       en   \n",
       "4               1                 0       en   \n",
       "5               1                 0       en   \n",
       "6               2                 0       en   \n",
       "7               3                 0       de   \n",
       "8               2                 0       en   \n",
       "9               1                 0       en   \n",
       "10              4                 0       en   \n",
       "11              3                 0       en   \n",
       "12              1                 0       en   \n",
       "13              2                 0       en   \n",
       "14              1                 0       en   \n",
       "15              1                 0       en   \n",
       "16              1                 0       en   \n",
       "17              0                 0       en   \n",
       "18              2                 0       en   \n",
       "19              1                 0       en   \n",
       "\n",
       "                                             mentions  \\\n",
       "0                                                  []   \n",
       "1                                                  []   \n",
       "2                                                  []   \n",
       "3   [{'id': '109427917286258110', 'username': 'lib...   \n",
       "4   [{'id': '109593675526842439', 'username': 'dan...   \n",
       "5                                                  []   \n",
       "6                                                  []   \n",
       "7   [{'id': '39339', 'username': 'luki', 'url': 'h...   \n",
       "8                                                  []   \n",
       "9                                                  []   \n",
       "10                                                 []   \n",
       "11  [{'id': '109299278366127744', 'username': 'scr...   \n",
       "12                                                 []   \n",
       "13  [{'id': '109382734572820425', 'username': 'joa...   \n",
       "14                                                 []   \n",
       "15                                                 []   \n",
       "16                                                 []   \n",
       "17                                                 []   \n",
       "18                                                 []   \n",
       "19                                                 []   \n",
       "\n",
       "                                                 tags emojis       category  \n",
       "0   [{'name': 'fairdata', 'url': 'https://toot.wal...     []  Veranstaltung  \n",
       "1   [{'name': 'china', 'url': 'https://toot.wales/...     []    Publikation  \n",
       "2   [{'name': 'usa', 'url': 'https://toot.wales/ta...     []    Publikation  \n",
       "3   [{'name': 'fairdata', 'url': 'https://toot.wal...     []  Veranstaltung  \n",
       "4   [{'name': 'research', 'url': 'https://toot.wal...     []  Veranstaltung  \n",
       "5   [{'name': 'australia', 'url': 'https://toot.wa...     []    Publikation  \n",
       "6   [{'name': 'mozambique', 'url': 'https://toot.w...     []    Publikation  \n",
       "7   [{'name': 'digitalekommunikation', 'url': 'htt...     []    Publikation  \n",
       "8   [{'name': 'brazil', 'url': 'https://toot.wales...     []    Publikation  \n",
       "9   [{'name': 'japan', 'url': 'https://toot.wales/...     []  Veranstaltung  \n",
       "10  [{'name': 'fairdata', 'url': 'https://toot.wal...     []  Veranstaltung  \n",
       "11  [{'name': 'sculpure', 'url': 'https://toot.wal...     []  Veranstaltung  \n",
       "12  [{'name': 'ScienceJobs', 'url': 'https://toot....     []  Veranstaltung  \n",
       "13  [{'name': 'dariah2023', 'url': 'https://toot.w...     []  Veranstaltung  \n",
       "14  [{'name': 'openresearch', 'url': 'https://toot...     []    Publikation  \n",
       "15  [{'name': 'india', 'url': 'https://toot.wales/...     []    Publikation  \n",
       "16  [{'name': 'peru', 'url': 'https://toot.wales/t...     []    Publikation  \n",
       "17  [{'name': 'philippines', 'url': 'https://toot....     []    Publikation  \n",
       "18  [{'name': 'taiwan', 'url': 'https://toot.wales...     []    Publikation  \n",
       "19  [{'name': 'fossil', 'url': 'https://toot.wales...     []    Publikation  "
      ]
     },
     "execution_count": 149,
     "metadata": {},
     "output_type": "execute_result"
    }
   ],
   "source": []
  },
  {
   "cell_type": "code",
   "execution_count": 142,
   "id": "3a66a964",
   "metadata": {},
   "outputs": [
    {
     "name": "stdout",
     "output_type": "stream",
     "text": [
      "Anzahl der Duplikate: 0\n"
     ]
    }
   ],
   "source": [
    "duplicates = df_no_duplicates.duplicated()\n",
    "\n",
    "# Anzahl der Duplikate\n",
    "num_duplicates = duplicates.sum()\n",
    "\n",
    "print(f\"Anzahl der Duplikate: {num_duplicates}\")"
   ]
  },
  {
   "cell_type": "code",
   "execution_count": 132,
   "id": "9d3a6b32",
   "metadata": {},
   "outputs": [
    {
     "name": "stdout",
     "output_type": "stream",
     "text": [
      "                      id                created_at  \\\n",
      "0     110548966831726201  2023-06-15T15:36:04.000Z   \n",
      "1     110547499407785470  2023-06-15T09:22:54.000Z   \n",
      "2     110547331904520997  2023-06-15T08:40:18.000Z   \n",
      "5     110514525776306970  2023-06-09T13:37:17.000Z   \n",
      "6     110513931459342417  2023-06-09T11:06:08.000Z   \n",
      "...                  ...                       ...   \n",
      "4041  109285425471194001  2022-11-04T12:00:54.875Z   \n",
      "4043  109263431430505767  2022-10-31T14:47:21.000Z   \n",
      "4044  108672807786275913  2022-07-19T07:24:07.000Z   \n",
      "4045  108397122543238853  2022-05-31T14:53:40.000Z   \n",
      "4046  108228356228705063  2022-05-01T19:34:17.000Z   \n",
      "\n",
      "                                                content  \\\n",
      "0     <p>Publish your data with confidence! </p><p>O...   \n",
      "1     <p><a href=\"https://mastodon.green/tags/NewSpe...   \n",
      "2     <p><a href=\"https://mastodon.green/tags/NewSpe...   \n",
      "5     <p><a href=\"https://mastodon.green/tags/NewSpe...   \n",
      "6     <p><a href=\"https://mastodon.green/tags/NewSpe...   \n",
      "...                                                 ...   \n",
      "4041  <p><a href=\"https://mastodon.green/tags/NewSpe...   \n",
      "4043  <p>You have probably hear of <a href=\"https://...   \n",
      "4044  <p>I'm in Landau today at the Psychology depar...   \n",
      "4045  <p><span class=\"h-card\"><a href=\"https://schol...   \n",
      "4046  <p>\"To help some of the newcomers make connect...   \n",
      "\n",
      "                                                account  replies_count  \\\n",
      "0     {'id': '109342933770338406', 'username': 'epim...              0   \n",
      "1     {'id': '109327578474357620', 'username': 'plaz...              0   \n",
      "2     {'id': '109327578474357620', 'username': 'plaz...              0   \n",
      "5     {'id': '109327578474357620', 'username': 'plaz...              0   \n",
      "6     {'id': '109327578474357620', 'username': 'plaz...              0   \n",
      "...                                                 ...            ...   \n",
      "4041  {'id': '109284715061279695', 'username': 'plaz...              0   \n",
      "4043  {'id': '109240625222777543', 'username': 'Ruth...              1   \n",
      "4044  {'id': '108208561246147216', 'username': 'Date...              0   \n",
      "4045  {'id': '5972', 'username': 'VictorVenema', 'ac...              0   \n",
      "4046  {'id': '108208561246147216', 'username': 'Date...              0   \n",
      "\n",
      "      reblogs_count  favourites_count language  \\\n",
      "0                 0                 0       en   \n",
      "1                 5                 0       en   \n",
      "2                 1                 0       en   \n",
      "5                 1                 0       en   \n",
      "6                 2                 0       en   \n",
      "...             ...               ...      ...   \n",
      "4041              1                 3       en   \n",
      "4043              2                 0       en   \n",
      "4044              0                 0       en   \n",
      "4045              0                 0       en   \n",
      "4046              1                 0       en   \n",
      "\n",
      "                                               mentions  \\\n",
      "0                                                    []   \n",
      "1                                                    []   \n",
      "2                                                    []   \n",
      "5                                                    []   \n",
      "6                                                    []   \n",
      "...                                                 ...   \n",
      "4041                                                 []   \n",
      "4043                                                 []   \n",
      "4044                                                 []   \n",
      "4045  [{'id': '108250051800401164', 'username': 'Lam...   \n",
      "4046                                                 []   \n",
      "\n",
      "                                                   tags emojis       category  \n",
      "0     [{'name': 'fairdata', 'url': 'https://toot.wal...     []  Veranstaltung  \n",
      "1     [{'name': 'china', 'url': 'https://toot.wales/...     []    Publikation  \n",
      "2     [{'name': 'usa', 'url': 'https://toot.wales/ta...     []    Publikation  \n",
      "5     [{'name': 'australia', 'url': 'https://toot.wa...     []    Publikation  \n",
      "6     [{'name': 'mozambique', 'url': 'https://toot.w...     []    Publikation  \n",
      "...                                                 ...    ...            ...  \n",
      "4041  [{'name': 'NewSpecies', 'url': 'https://mastod...     []    Publikation  \n",
      "4043  [{'name': 'INSPIREdata', 'url': 'https://masto...     []    Publikation  \n",
      "4044  [{'name': 'fairdata', 'url': 'https://mastodon...     []    Publikation  \n",
      "4045  [{'name': 'opendata', 'url': 'https://mastodon...     []    Publikation  \n",
      "4046  [{'name': 'DataFeminism', 'url': 'https://mast...     []    Publikation  \n",
      "\n",
      "[890 rows x 12 columns]\n"
     ]
    }
   ],
   "source": [
    "duplicate_rows = filtered_df[filtered_df.duplicated(keep=False)]"
   ]
  },
  {
   "cell_type": "code",
   "execution_count": 140,
   "id": "aa1688f1",
   "metadata": {},
   "outputs": [
    {
     "name": "stdout",
     "output_type": "stream",
     "text": [
      "Anzahl der Duplikate in der Spalte 'content': 6660\n"
     ]
    }
   ],
   "source": [
    "duplicates_in_id = filtered_df['created_at'].duplicated()\n",
    "num_duplicates_in_id = duplicates_in_id.sum()\n",
    "\n",
    "print(f\"Anzahl der Duplikate in der Spalte 'content': {num_duplicates_in_id}\")"
   ]
  },
  {
   "cell_type": "code",
   "execution_count": 135,
   "id": "005a7e24",
   "metadata": {},
   "outputs": [
    {
     "name": "stdout",
     "output_type": "stream",
     "text": [
      "Anzahl der Duplikate: 445\n"
     ]
    }
   ],
   "source": [
    "num_duplicates = filtered_df.duplicated().sum()\n",
    "print(f\"Anzahl der Duplikate: {num_duplicates}\")"
   ]
  },
  {
   "cell_type": "code",
   "execution_count": 136,
   "id": "229794fc",
   "metadata": {},
   "outputs": [
    {
     "name": "stdout",
     "output_type": "stream",
     "text": [
      "                      id                created_at  \\\n",
      "228   110548966831726201  2023-06-15T15:36:04.000Z   \n",
      "229   110547499407785470  2023-06-15T09:22:54.000Z   \n",
      "230   110547331904520997  2023-06-15T08:40:18.000Z   \n",
      "233   110514525776306970  2023-06-09T13:37:17.000Z   \n",
      "234   110513931459342417  2023-06-09T11:06:08.000Z   \n",
      "...                  ...                       ...   \n",
      "4041  109285425471194001  2022-11-04T12:00:54.875Z   \n",
      "4043  109263431430505767  2022-10-31T14:47:21.000Z   \n",
      "4044  108672807786275913  2022-07-19T07:24:07.000Z   \n",
      "4045  108397122543238853  2022-05-31T14:53:40.000Z   \n",
      "4046  108228356228705063  2022-05-01T19:34:17.000Z   \n",
      "\n",
      "                                                content  \\\n",
      "228   <p>Publish your data with confidence! </p><p>O...   \n",
      "229   <p><a href=\"https://mastodon.green/tags/NewSpe...   \n",
      "230   <p><a href=\"https://mastodon.green/tags/NewSpe...   \n",
      "233   <p><a href=\"https://mastodon.green/tags/NewSpe...   \n",
      "234   <p><a href=\"https://mastodon.green/tags/NewSpe...   \n",
      "...                                                 ...   \n",
      "4041  <p><a href=\"https://mastodon.green/tags/NewSpe...   \n",
      "4043  <p>You have probably hear of <a href=\"https://...   \n",
      "4044  <p>I'm in Landau today at the Psychology depar...   \n",
      "4045  <p><span class=\"h-card\"><a href=\"https://schol...   \n",
      "4046  <p>\"To help some of the newcomers make connect...   \n",
      "\n",
      "                                                account  replies_count  \\\n",
      "228   {'id': '109342933770338406', 'username': 'epim...              0   \n",
      "229   {'id': '109327578474357620', 'username': 'plaz...              0   \n",
      "230   {'id': '109327578474357620', 'username': 'plaz...              0   \n",
      "233   {'id': '109327578474357620', 'username': 'plaz...              0   \n",
      "234   {'id': '109327578474357620', 'username': 'plaz...              0   \n",
      "...                                                 ...            ...   \n",
      "4041  {'id': '109284715061279695', 'username': 'plaz...              0   \n",
      "4043  {'id': '109240625222777543', 'username': 'Ruth...              1   \n",
      "4044  {'id': '108208561246147216', 'username': 'Date...              0   \n",
      "4045  {'id': '5972', 'username': 'VictorVenema', 'ac...              0   \n",
      "4046  {'id': '108208561246147216', 'username': 'Date...              0   \n",
      "\n",
      "      reblogs_count  favourites_count language  \\\n",
      "228               0                 0       en   \n",
      "229               5                 0       en   \n",
      "230               1                 0       en   \n",
      "233               1                 0       en   \n",
      "234               2                 0       en   \n",
      "...             ...               ...      ...   \n",
      "4041              1                 3       en   \n",
      "4043              2                 0       en   \n",
      "4044              0                 0       en   \n",
      "4045              0                 0       en   \n",
      "4046              1                 0       en   \n",
      "\n",
      "                                               mentions  \\\n",
      "228                                                  []   \n",
      "229                                                  []   \n",
      "230                                                  []   \n",
      "233                                                  []   \n",
      "234                                                  []   \n",
      "...                                                 ...   \n",
      "4041                                                 []   \n",
      "4043                                                 []   \n",
      "4044                                                 []   \n",
      "4045  [{'id': '108250051800401164', 'username': 'Lam...   \n",
      "4046                                                 []   \n",
      "\n",
      "                                                   tags emojis       category  \n",
      "228   [{'name': 'fairdata', 'url': 'https://toot.wal...     []  Veranstaltung  \n",
      "229   [{'name': 'china', 'url': 'https://toot.wales/...     []    Publikation  \n",
      "230   [{'name': 'usa', 'url': 'https://toot.wales/ta...     []    Publikation  \n",
      "233   [{'name': 'australia', 'url': 'https://toot.wa...     []    Publikation  \n",
      "234   [{'name': 'mozambique', 'url': 'https://toot.w...     []    Publikation  \n",
      "...                                                 ...    ...            ...  \n",
      "4041  [{'name': 'NewSpecies', 'url': 'https://mastod...     []    Publikation  \n",
      "4043  [{'name': 'INSPIREdata', 'url': 'https://masto...     []    Publikation  \n",
      "4044  [{'name': 'fairdata', 'url': 'https://mastodon...     []    Publikation  \n",
      "4045  [{'name': 'opendata', 'url': 'https://mastodon...     []    Publikation  \n",
      "4046  [{'name': 'DataFeminism', 'url': 'https://mast...     []    Publikation  \n",
      "\n",
      "[445 rows x 12 columns]\n"
     ]
    }
   ],
   "source": [
    "duplicate_rows = filtered_df[filtered_df.duplicated()]\n",
    "print(duplicate_rows)"
   ]
  },
  {
   "cell_type": "code",
   "execution_count": 138,
   "id": "e6dee069",
   "metadata": {},
   "outputs": [
    {
     "name": "stdout",
     "output_type": "stream",
     "text": [
      "                      id                created_at  \\\n",
      "0     110548966831726201  2023-06-15T15:36:04.000Z   \n",
      "1     110547499407785470  2023-06-15T09:22:54.000Z   \n",
      "2     110547331904520997  2023-06-15T08:40:18.000Z   \n",
      "5     110514525776306970  2023-06-09T13:37:17.000Z   \n",
      "6     110513931459342417  2023-06-09T11:06:08.000Z   \n",
      "...                  ...                       ...   \n",
      "4041  109285425471194001  2022-11-04T12:00:54.875Z   \n",
      "4043  109263431430505767  2022-10-31T14:47:21.000Z   \n",
      "4044  108672807786275913  2022-07-19T07:24:07.000Z   \n",
      "4045  108397122543238853  2022-05-31T14:53:40.000Z   \n",
      "4046  108228356228705063  2022-05-01T19:34:17.000Z   \n",
      "\n",
      "                                                content  \\\n",
      "0     <p>Publish your data with confidence! </p><p>O...   \n",
      "1     <p><a href=\"https://mastodon.green/tags/NewSpe...   \n",
      "2     <p><a href=\"https://mastodon.green/tags/NewSpe...   \n",
      "5     <p><a href=\"https://mastodon.green/tags/NewSpe...   \n",
      "6     <p><a href=\"https://mastodon.green/tags/NewSpe...   \n",
      "...                                                 ...   \n",
      "4041  <p><a href=\"https://mastodon.green/tags/NewSpe...   \n",
      "4043  <p>You have probably hear of <a href=\"https://...   \n",
      "4044  <p>I'm in Landau today at the Psychology depar...   \n",
      "4045  <p><span class=\"h-card\"><a href=\"https://schol...   \n",
      "4046  <p>\"To help some of the newcomers make connect...   \n",
      "\n",
      "                                                account  replies_count  \\\n",
      "0     {'id': '109342933770338406', 'username': 'epim...              0   \n",
      "1     {'id': '109327578474357620', 'username': 'plaz...              0   \n",
      "2     {'id': '109327578474357620', 'username': 'plaz...              0   \n",
      "5     {'id': '109327578474357620', 'username': 'plaz...              0   \n",
      "6     {'id': '109327578474357620', 'username': 'plaz...              0   \n",
      "...                                                 ...            ...   \n",
      "4041  {'id': '109284715061279695', 'username': 'plaz...              0   \n",
      "4043  {'id': '109240625222777543', 'username': 'Ruth...              1   \n",
      "4044  {'id': '108208561246147216', 'username': 'Date...              0   \n",
      "4045  {'id': '5972', 'username': 'VictorVenema', 'ac...              0   \n",
      "4046  {'id': '108208561246147216', 'username': 'Date...              0   \n",
      "\n",
      "      reblogs_count  favourites_count language  \\\n",
      "0                 0                 0       en   \n",
      "1                 5                 0       en   \n",
      "2                 1                 0       en   \n",
      "5                 1                 0       en   \n",
      "6                 2                 0       en   \n",
      "...             ...               ...      ...   \n",
      "4041              1                 3       en   \n",
      "4043              2                 0       en   \n",
      "4044              0                 0       en   \n",
      "4045              0                 0       en   \n",
      "4046              1                 0       en   \n",
      "\n",
      "                                               mentions  \\\n",
      "0                                                    []   \n",
      "1                                                    []   \n",
      "2                                                    []   \n",
      "5                                                    []   \n",
      "6                                                    []   \n",
      "...                                                 ...   \n",
      "4041                                                 []   \n",
      "4043                                                 []   \n",
      "4044                                                 []   \n",
      "4045  [{'id': '108250051800401164', 'username': 'Lam...   \n",
      "4046                                                 []   \n",
      "\n",
      "                                                   tags emojis       category  \n",
      "0     [{'name': 'fairdata', 'url': 'https://toot.wal...     []  Veranstaltung  \n",
      "1     [{'name': 'china', 'url': 'https://toot.wales/...     []    Publikation  \n",
      "2     [{'name': 'usa', 'url': 'https://toot.wales/ta...     []    Publikation  \n",
      "5     [{'name': 'australia', 'url': 'https://toot.wa...     []    Publikation  \n",
      "6     [{'name': 'mozambique', 'url': 'https://toot.w...     []    Publikation  \n",
      "...                                                 ...    ...            ...  \n",
      "4041  [{'name': 'NewSpecies', 'url': 'https://mastod...     []    Publikation  \n",
      "4043  [{'name': 'INSPIREdata', 'url': 'https://masto...     []    Publikation  \n",
      "4044  [{'name': 'fairdata', 'url': 'https://mastodon...     []    Publikation  \n",
      "4045  [{'name': 'opendata', 'url': 'https://mastodon...     []    Publikation  \n",
      "4046  [{'name': 'DataFeminism', 'url': 'https://mast...     []    Publikation  \n",
      "\n",
      "[890 rows x 12 columns]\n"
     ]
    },
    {
     "data": {
      "text/html": [
       "<div>\n",
       "<style scoped>\n",
       "    .dataframe tbody tr th:only-of-type {\n",
       "        vertical-align: middle;\n",
       "    }\n",
       "\n",
       "    .dataframe tbody tr th {\n",
       "        vertical-align: top;\n",
       "    }\n",
       "\n",
       "    .dataframe thead th {\n",
       "        text-align: right;\n",
       "    }\n",
       "</style>\n",
       "<table border=\"1\" class=\"dataframe\">\n",
       "  <thead>\n",
       "    <tr style=\"text-align: right;\">\n",
       "      <th></th>\n",
       "      <th>id</th>\n",
       "      <th>created_at</th>\n",
       "      <th>content</th>\n",
       "      <th>account</th>\n",
       "      <th>replies_count</th>\n",
       "      <th>reblogs_count</th>\n",
       "      <th>favourites_count</th>\n",
       "      <th>language</th>\n",
       "      <th>mentions</th>\n",
       "      <th>tags</th>\n",
       "      <th>emojis</th>\n",
       "      <th>category</th>\n",
       "    </tr>\n",
       "  </thead>\n",
       "  <tbody>\n",
       "    <tr>\n",
       "      <th>0</th>\n",
       "      <td>110548966831726201</td>\n",
       "      <td>2023-06-15T15:36:04.000Z</td>\n",
       "      <td>&lt;p&gt;Publish your data with confidence! &lt;/p&gt;&lt;p&gt;O...</td>\n",
       "      <td>{'id': '109342933770338406', 'username': 'epim...</td>\n",
       "      <td>0</td>\n",
       "      <td>0</td>\n",
       "      <td>0</td>\n",
       "      <td>en</td>\n",
       "      <td>[]</td>\n",
       "      <td>[{'name': 'fairdata', 'url': 'https://toot.wal...</td>\n",
       "      <td>[]</td>\n",
       "      <td>Veranstaltung</td>\n",
       "    </tr>\n",
       "    <tr>\n",
       "      <th>1</th>\n",
       "      <td>110547499407785470</td>\n",
       "      <td>2023-06-15T09:22:54.000Z</td>\n",
       "      <td>&lt;p&gt;&lt;a href=\"https://mastodon.green/tags/NewSpe...</td>\n",
       "      <td>{'id': '109327578474357620', 'username': 'plaz...</td>\n",
       "      <td>0</td>\n",
       "      <td>5</td>\n",
       "      <td>0</td>\n",
       "      <td>en</td>\n",
       "      <td>[]</td>\n",
       "      <td>[{'name': 'china', 'url': 'https://toot.wales/...</td>\n",
       "      <td>[]</td>\n",
       "      <td>Publikation</td>\n",
       "    </tr>\n",
       "    <tr>\n",
       "      <th>2</th>\n",
       "      <td>110547331904520997</td>\n",
       "      <td>2023-06-15T08:40:18.000Z</td>\n",
       "      <td>&lt;p&gt;&lt;a href=\"https://mastodon.green/tags/NewSpe...</td>\n",
       "      <td>{'id': '109327578474357620', 'username': 'plaz...</td>\n",
       "      <td>0</td>\n",
       "      <td>1</td>\n",
       "      <td>0</td>\n",
       "      <td>en</td>\n",
       "      <td>[]</td>\n",
       "      <td>[{'name': 'usa', 'url': 'https://toot.wales/ta...</td>\n",
       "      <td>[]</td>\n",
       "      <td>Publikation</td>\n",
       "    </tr>\n",
       "    <tr>\n",
       "      <th>5</th>\n",
       "      <td>110514525776306970</td>\n",
       "      <td>2023-06-09T13:37:17.000Z</td>\n",
       "      <td>&lt;p&gt;&lt;a href=\"https://mastodon.green/tags/NewSpe...</td>\n",
       "      <td>{'id': '109327578474357620', 'username': 'plaz...</td>\n",
       "      <td>0</td>\n",
       "      <td>1</td>\n",
       "      <td>0</td>\n",
       "      <td>en</td>\n",
       "      <td>[]</td>\n",
       "      <td>[{'name': 'australia', 'url': 'https://toot.wa...</td>\n",
       "      <td>[]</td>\n",
       "      <td>Publikation</td>\n",
       "    </tr>\n",
       "    <tr>\n",
       "      <th>6</th>\n",
       "      <td>110513931459342417</td>\n",
       "      <td>2023-06-09T11:06:08.000Z</td>\n",
       "      <td>&lt;p&gt;&lt;a href=\"https://mastodon.green/tags/NewSpe...</td>\n",
       "      <td>{'id': '109327578474357620', 'username': 'plaz...</td>\n",
       "      <td>0</td>\n",
       "      <td>2</td>\n",
       "      <td>0</td>\n",
       "      <td>en</td>\n",
       "      <td>[]</td>\n",
       "      <td>[{'name': 'mozambique', 'url': 'https://toot.w...</td>\n",
       "      <td>[]</td>\n",
       "      <td>Publikation</td>\n",
       "    </tr>\n",
       "    <tr>\n",
       "      <th>7</th>\n",
       "      <td>110513074859534462</td>\n",
       "      <td>2023-06-09T07:28:17.000Z</td>\n",
       "      <td>&lt;p&gt;Wie &lt;a href=\"https://kirche.social/tags/dig...</td>\n",
       "      <td>{'id': '75387', 'username': 'JoergSorge', 'acc...</td>\n",
       "      <td>0</td>\n",
       "      <td>3</td>\n",
       "      <td>0</td>\n",
       "      <td>de</td>\n",
       "      <td>[{'id': '39339', 'username': 'luki', 'url': 'h...</td>\n",
       "      <td>[{'name': 'digitalekommunikation', 'url': 'htt...</td>\n",
       "      <td>[]</td>\n",
       "      <td>Publikation</td>\n",
       "    </tr>\n",
       "    <tr>\n",
       "      <th>8</th>\n",
       "      <td>110512813901578105</td>\n",
       "      <td>2023-06-09T06:21:56.000Z</td>\n",
       "      <td>&lt;p&gt;&lt;a href=\"https://mastodon.green/tags/NewSpe...</td>\n",
       "      <td>{'id': '109327578474357620', 'username': 'plaz...</td>\n",
       "      <td>0</td>\n",
       "      <td>2</td>\n",
       "      <td>0</td>\n",
       "      <td>en</td>\n",
       "      <td>[]</td>\n",
       "      <td>[{'name': 'brazil', 'url': 'https://toot.wales...</td>\n",
       "      <td>[]</td>\n",
       "      <td>Publikation</td>\n",
       "    </tr>\n",
       "    <tr>\n",
       "      <th>13</th>\n",
       "      <td>110498117517405016</td>\n",
       "      <td>2023-06-06T16:04:27.000Z</td>\n",
       "      <td>&lt;p&gt;&lt;span class=\"h-card\"&gt;&lt;a href=\"https://masto...</td>\n",
       "      <td>{'id': '109472765974683251', 'username': 'beth...</td>\n",
       "      <td>0</td>\n",
       "      <td>2</td>\n",
       "      <td>0</td>\n",
       "      <td>en</td>\n",
       "      <td>[{'id': '109382734572820425', 'username': 'joa...</td>\n",
       "      <td>[{'name': 'dariah2023', 'url': 'https://toot.w...</td>\n",
       "      <td>[]</td>\n",
       "      <td>Veranstaltung</td>\n",
       "    </tr>\n",
       "    <tr>\n",
       "      <th>15</th>\n",
       "      <td>110475119906741301</td>\n",
       "      <td>2023-06-02T14:35:51.000Z</td>\n",
       "      <td>&lt;p&gt;&lt;a href=\"https://mastodon.green/tags/NewSpe...</td>\n",
       "      <td>{'id': '109327578474357620', 'username': 'plaz...</td>\n",
       "      <td>0</td>\n",
       "      <td>1</td>\n",
       "      <td>0</td>\n",
       "      <td>en</td>\n",
       "      <td>[]</td>\n",
       "      <td>[{'name': 'india', 'url': 'https://toot.wales/...</td>\n",
       "      <td>[]</td>\n",
       "      <td>Publikation</td>\n",
       "    </tr>\n",
       "    <tr>\n",
       "      <th>16</th>\n",
       "      <td>110475102693768316</td>\n",
       "      <td>2023-06-02T14:31:28.000Z</td>\n",
       "      <td>&lt;p&gt;&lt;a href=\"https://mastodon.green/tags/NewSpe...</td>\n",
       "      <td>{'id': '109327578474357620', 'username': 'plaz...</td>\n",
       "      <td>0</td>\n",
       "      <td>1</td>\n",
       "      <td>0</td>\n",
       "      <td>en</td>\n",
       "      <td>[]</td>\n",
       "      <td>[{'name': 'peru', 'url': 'https://toot.wales/t...</td>\n",
       "      <td>[]</td>\n",
       "      <td>Publikation</td>\n",
       "    </tr>\n",
       "    <tr>\n",
       "      <th>17</th>\n",
       "      <td>110474927124286775</td>\n",
       "      <td>2023-06-02T13:46:49.000Z</td>\n",
       "      <td>&lt;p&gt;&lt;a href=\"https://mastodon.green/tags/NewSpe...</td>\n",
       "      <td>{'id': '109327578474357620', 'username': 'plaz...</td>\n",
       "      <td>0</td>\n",
       "      <td>0</td>\n",
       "      <td>0</td>\n",
       "      <td>en</td>\n",
       "      <td>[]</td>\n",
       "      <td>[{'name': 'philippines', 'url': 'https://toot....</td>\n",
       "      <td>[]</td>\n",
       "      <td>Publikation</td>\n",
       "    </tr>\n",
       "    <tr>\n",
       "      <th>18</th>\n",
       "      <td>110474832844887353</td>\n",
       "      <td>2023-06-02T13:22:51.000Z</td>\n",
       "      <td>&lt;p&gt;&lt;a href=\"https://mastodon.green/tags/NewSpe...</td>\n",
       "      <td>{'id': '109327578474357620', 'username': 'plaz...</td>\n",
       "      <td>0</td>\n",
       "      <td>2</td>\n",
       "      <td>0</td>\n",
       "      <td>en</td>\n",
       "      <td>[]</td>\n",
       "      <td>[{'name': 'taiwan', 'url': 'https://toot.wales...</td>\n",
       "      <td>[]</td>\n",
       "      <td>Publikation</td>\n",
       "    </tr>\n",
       "    <tr>\n",
       "      <th>20</th>\n",
       "      <td>110474689884558001</td>\n",
       "      <td>2023-06-02T12:46:29.000Z</td>\n",
       "      <td>&lt;p&gt;&lt;a href=\"https://mastodon.green/tags/NewSpe...</td>\n",
       "      <td>{'id': '109327578474357620', 'username': 'plaz...</td>\n",
       "      <td>0</td>\n",
       "      <td>1</td>\n",
       "      <td>0</td>\n",
       "      <td>en</td>\n",
       "      <td>[]</td>\n",
       "      <td>[{'name': 'indianocean', 'url': 'https://toot....</td>\n",
       "      <td>[]</td>\n",
       "      <td>Publikation</td>\n",
       "    </tr>\n",
       "    <tr>\n",
       "      <th>24</th>\n",
       "      <td>110473395159979682</td>\n",
       "      <td>2023-06-02T07:17:13.000Z</td>\n",
       "      <td>&lt;p&gt;&lt;a href=\"https://mastodon.green/tags/NewSpe...</td>\n",
       "      <td>{'id': '109327578474357620', 'username': 'plaz...</td>\n",
       "      <td>0</td>\n",
       "      <td>3</td>\n",
       "      <td>0</td>\n",
       "      <td>en</td>\n",
       "      <td>[]</td>\n",
       "      <td>[{'name': 'peru', 'url': 'https://toot.wales/t...</td>\n",
       "      <td>[]</td>\n",
       "      <td>Publikation</td>\n",
       "    </tr>\n",
       "    <tr>\n",
       "      <th>25</th>\n",
       "      <td>110473386713572222</td>\n",
       "      <td>2023-06-02T07:15:04.000Z</td>\n",
       "      <td>&lt;p&gt;&lt;a href=\"https://mastodon.green/tags/NewSpe...</td>\n",
       "      <td>{'id': '109327578474357620', 'username': 'plaz...</td>\n",
       "      <td>0</td>\n",
       "      <td>1</td>\n",
       "      <td>0</td>\n",
       "      <td>en</td>\n",
       "      <td>[]</td>\n",
       "      <td>[{'name': 'southafrica', 'url': 'https://toot....</td>\n",
       "      <td>[]</td>\n",
       "      <td>Publikation</td>\n",
       "    </tr>\n",
       "    <tr>\n",
       "      <th>29</th>\n",
       "      <td>110435598520311130</td>\n",
       "      <td>2023-05-26T15:05:02.000Z</td>\n",
       "      <td>&lt;p&gt;&lt;a href=\"https://mastodon.green/tags/NewSpe...</td>\n",
       "      <td>{'id': '109327578474357620', 'username': 'plaz...</td>\n",
       "      <td>0</td>\n",
       "      <td>2</td>\n",
       "      <td>0</td>\n",
       "      <td>en</td>\n",
       "      <td>[]</td>\n",
       "      <td>[{'name': 'japan', 'url': 'https://toot.wales/...</td>\n",
       "      <td>[]</td>\n",
       "      <td>Publikation</td>\n",
       "    </tr>\n",
       "    <tr>\n",
       "      <th>31</th>\n",
       "      <td>110434876353846590</td>\n",
       "      <td>2023-05-26T12:01:23.000Z</td>\n",
       "      <td>&lt;p&gt;&lt;a href=\"https://mastodon.green/tags/NewSpe...</td>\n",
       "      <td>{'id': '109327578474357620', 'username': 'plaz...</td>\n",
       "      <td>0</td>\n",
       "      <td>1</td>\n",
       "      <td>0</td>\n",
       "      <td>en</td>\n",
       "      <td>[]</td>\n",
       "      <td>[{'name': 'italy', 'url': 'https://toot.wales/...</td>\n",
       "      <td>[]</td>\n",
       "      <td>Publikation</td>\n",
       "    </tr>\n",
       "    <tr>\n",
       "      <th>33</th>\n",
       "      <td>110433979699194022</td>\n",
       "      <td>2023-05-26T08:13:10.000Z</td>\n",
       "      <td>&lt;p&gt;This morning's department &lt;a href=\"https://...</td>\n",
       "      <td>{'id': '188564', 'username': 'Ruth_Mottram', '...</td>\n",
       "      <td>0</td>\n",
       "      <td>0</td>\n",
       "      <td>0</td>\n",
       "      <td>en</td>\n",
       "      <td>[{'id': '109678412643435266', 'username': 'Cop...</td>\n",
       "      <td>[{'name': 'science', 'url': 'https://toot.wale...</td>\n",
       "      <td>[]</td>\n",
       "      <td>Publikation</td>\n",
       "    </tr>\n",
       "    <tr>\n",
       "      <th>35</th>\n",
       "      <td>110418211234428079</td>\n",
       "      <td>2023-05-23T13:23:11.000Z</td>\n",
       "      <td>&lt;p&gt;New collections in the Digital Repository o...</td>\n",
       "      <td>{'id': '109306942621805574', 'username': 'debs...</td>\n",
       "      <td>0</td>\n",
       "      <td>2</td>\n",
       "      <td>0</td>\n",
       "      <td>en</td>\n",
       "      <td>[]</td>\n",
       "      <td>[{'name': 'opendata', 'url': 'https://toot.wal...</td>\n",
       "      <td>[]</td>\n",
       "      <td>Veranstaltung</td>\n",
       "    </tr>\n",
       "    <tr>\n",
       "      <th>36</th>\n",
       "      <td>110383346138201969</td>\n",
       "      <td>2023-05-17T09:36:34.000Z</td>\n",
       "      <td>&lt;p&gt;For those of you active in &lt;a href=\"https:/...</td>\n",
       "      <td>{'id': '109290778397312291', 'username': 'Mobi...</td>\n",
       "      <td>0</td>\n",
       "      <td>1</td>\n",
       "      <td>0</td>\n",
       "      <td>en</td>\n",
       "      <td>[]</td>\n",
       "      <td>[{'name': 'sciencecommunication', 'url': 'http...</td>\n",
       "      <td>[]</td>\n",
       "      <td>Veranstaltung</td>\n",
       "    </tr>\n",
       "  </tbody>\n",
       "</table>\n",
       "</div>"
      ],
      "text/plain": [
       "                    id                created_at  \\\n",
       "0   110548966831726201  2023-06-15T15:36:04.000Z   \n",
       "1   110547499407785470  2023-06-15T09:22:54.000Z   \n",
       "2   110547331904520997  2023-06-15T08:40:18.000Z   \n",
       "5   110514525776306970  2023-06-09T13:37:17.000Z   \n",
       "6   110513931459342417  2023-06-09T11:06:08.000Z   \n",
       "7   110513074859534462  2023-06-09T07:28:17.000Z   \n",
       "8   110512813901578105  2023-06-09T06:21:56.000Z   \n",
       "13  110498117517405016  2023-06-06T16:04:27.000Z   \n",
       "15  110475119906741301  2023-06-02T14:35:51.000Z   \n",
       "16  110475102693768316  2023-06-02T14:31:28.000Z   \n",
       "17  110474927124286775  2023-06-02T13:46:49.000Z   \n",
       "18  110474832844887353  2023-06-02T13:22:51.000Z   \n",
       "20  110474689884558001  2023-06-02T12:46:29.000Z   \n",
       "24  110473395159979682  2023-06-02T07:17:13.000Z   \n",
       "25  110473386713572222  2023-06-02T07:15:04.000Z   \n",
       "29  110435598520311130  2023-05-26T15:05:02.000Z   \n",
       "31  110434876353846590  2023-05-26T12:01:23.000Z   \n",
       "33  110433979699194022  2023-05-26T08:13:10.000Z   \n",
       "35  110418211234428079  2023-05-23T13:23:11.000Z   \n",
       "36  110383346138201969  2023-05-17T09:36:34.000Z   \n",
       "\n",
       "                                              content  \\\n",
       "0   <p>Publish your data with confidence! </p><p>O...   \n",
       "1   <p><a href=\"https://mastodon.green/tags/NewSpe...   \n",
       "2   <p><a href=\"https://mastodon.green/tags/NewSpe...   \n",
       "5   <p><a href=\"https://mastodon.green/tags/NewSpe...   \n",
       "6   <p><a href=\"https://mastodon.green/tags/NewSpe...   \n",
       "7   <p>Wie <a href=\"https://kirche.social/tags/dig...   \n",
       "8   <p><a href=\"https://mastodon.green/tags/NewSpe...   \n",
       "13  <p><span class=\"h-card\"><a href=\"https://masto...   \n",
       "15  <p><a href=\"https://mastodon.green/tags/NewSpe...   \n",
       "16  <p><a href=\"https://mastodon.green/tags/NewSpe...   \n",
       "17  <p><a href=\"https://mastodon.green/tags/NewSpe...   \n",
       "18  <p><a href=\"https://mastodon.green/tags/NewSpe...   \n",
       "20  <p><a href=\"https://mastodon.green/tags/NewSpe...   \n",
       "24  <p><a href=\"https://mastodon.green/tags/NewSpe...   \n",
       "25  <p><a href=\"https://mastodon.green/tags/NewSpe...   \n",
       "29  <p><a href=\"https://mastodon.green/tags/NewSpe...   \n",
       "31  <p><a href=\"https://mastodon.green/tags/NewSpe...   \n",
       "33  <p>This morning's department <a href=\"https://...   \n",
       "35  <p>New collections in the Digital Repository o...   \n",
       "36  <p>For those of you active in <a href=\"https:/...   \n",
       "\n",
       "                                              account  replies_count  \\\n",
       "0   {'id': '109342933770338406', 'username': 'epim...              0   \n",
       "1   {'id': '109327578474357620', 'username': 'plaz...              0   \n",
       "2   {'id': '109327578474357620', 'username': 'plaz...              0   \n",
       "5   {'id': '109327578474357620', 'username': 'plaz...              0   \n",
       "6   {'id': '109327578474357620', 'username': 'plaz...              0   \n",
       "7   {'id': '75387', 'username': 'JoergSorge', 'acc...              0   \n",
       "8   {'id': '109327578474357620', 'username': 'plaz...              0   \n",
       "13  {'id': '109472765974683251', 'username': 'beth...              0   \n",
       "15  {'id': '109327578474357620', 'username': 'plaz...              0   \n",
       "16  {'id': '109327578474357620', 'username': 'plaz...              0   \n",
       "17  {'id': '109327578474357620', 'username': 'plaz...              0   \n",
       "18  {'id': '109327578474357620', 'username': 'plaz...              0   \n",
       "20  {'id': '109327578474357620', 'username': 'plaz...              0   \n",
       "24  {'id': '109327578474357620', 'username': 'plaz...              0   \n",
       "25  {'id': '109327578474357620', 'username': 'plaz...              0   \n",
       "29  {'id': '109327578474357620', 'username': 'plaz...              0   \n",
       "31  {'id': '109327578474357620', 'username': 'plaz...              0   \n",
       "33  {'id': '188564', 'username': 'Ruth_Mottram', '...              0   \n",
       "35  {'id': '109306942621805574', 'username': 'debs...              0   \n",
       "36  {'id': '109290778397312291', 'username': 'Mobi...              0   \n",
       "\n",
       "    reblogs_count  favourites_count language  \\\n",
       "0               0                 0       en   \n",
       "1               5                 0       en   \n",
       "2               1                 0       en   \n",
       "5               1                 0       en   \n",
       "6               2                 0       en   \n",
       "7               3                 0       de   \n",
       "8               2                 0       en   \n",
       "13              2                 0       en   \n",
       "15              1                 0       en   \n",
       "16              1                 0       en   \n",
       "17              0                 0       en   \n",
       "18              2                 0       en   \n",
       "20              1                 0       en   \n",
       "24              3                 0       en   \n",
       "25              1                 0       en   \n",
       "29              2                 0       en   \n",
       "31              1                 0       en   \n",
       "33              0                 0       en   \n",
       "35              2                 0       en   \n",
       "36              1                 0       en   \n",
       "\n",
       "                                             mentions  \\\n",
       "0                                                  []   \n",
       "1                                                  []   \n",
       "2                                                  []   \n",
       "5                                                  []   \n",
       "6                                                  []   \n",
       "7   [{'id': '39339', 'username': 'luki', 'url': 'h...   \n",
       "8                                                  []   \n",
       "13  [{'id': '109382734572820425', 'username': 'joa...   \n",
       "15                                                 []   \n",
       "16                                                 []   \n",
       "17                                                 []   \n",
       "18                                                 []   \n",
       "20                                                 []   \n",
       "24                                                 []   \n",
       "25                                                 []   \n",
       "29                                                 []   \n",
       "31                                                 []   \n",
       "33  [{'id': '109678412643435266', 'username': 'Cop...   \n",
       "35                                                 []   \n",
       "36                                                 []   \n",
       "\n",
       "                                                 tags emojis       category  \n",
       "0   [{'name': 'fairdata', 'url': 'https://toot.wal...     []  Veranstaltung  \n",
       "1   [{'name': 'china', 'url': 'https://toot.wales/...     []    Publikation  \n",
       "2   [{'name': 'usa', 'url': 'https://toot.wales/ta...     []    Publikation  \n",
       "5   [{'name': 'australia', 'url': 'https://toot.wa...     []    Publikation  \n",
       "6   [{'name': 'mozambique', 'url': 'https://toot.w...     []    Publikation  \n",
       "7   [{'name': 'digitalekommunikation', 'url': 'htt...     []    Publikation  \n",
       "8   [{'name': 'brazil', 'url': 'https://toot.wales...     []    Publikation  \n",
       "13  [{'name': 'dariah2023', 'url': 'https://toot.w...     []  Veranstaltung  \n",
       "15  [{'name': 'india', 'url': 'https://toot.wales/...     []    Publikation  \n",
       "16  [{'name': 'peru', 'url': 'https://toot.wales/t...     []    Publikation  \n",
       "17  [{'name': 'philippines', 'url': 'https://toot....     []    Publikation  \n",
       "18  [{'name': 'taiwan', 'url': 'https://toot.wales...     []    Publikation  \n",
       "20  [{'name': 'indianocean', 'url': 'https://toot....     []    Publikation  \n",
       "24  [{'name': 'peru', 'url': 'https://toot.wales/t...     []    Publikation  \n",
       "25  [{'name': 'southafrica', 'url': 'https://toot....     []    Publikation  \n",
       "29  [{'name': 'japan', 'url': 'https://toot.wales/...     []    Publikation  \n",
       "31  [{'name': 'italy', 'url': 'https://toot.wales/...     []    Publikation  \n",
       "33  [{'name': 'science', 'url': 'https://toot.wale...     []    Publikation  \n",
       "35  [{'name': 'opendata', 'url': 'https://toot.wal...     []  Veranstaltung  \n",
       "36  [{'name': 'sciencecommunication', 'url': 'http...     []  Veranstaltung  "
      ]
     },
     "execution_count": 138,
     "metadata": {},
     "output_type": "execute_result"
    }
   ],
   "source": [
    "duplicate_rows_including_first = filtered_df[filtered_df.duplicated(keep=False)]\n",
    "print(duplicate_rows_including_first)\n",
    "duplicate_rows_including_first.head(20)"
   ]
  },
  {
   "cell_type": "code",
   "execution_count": 153,
   "id": "d73026e3",
   "metadata": {},
   "outputs": [
    {
     "name": "stdout",
     "output_type": "stream",
     "text": [
      "                                                content  \\\n",
      "0     <p>Publish your data with confidence! </p><p>O...   \n",
      "1     <p><a href=\"https://mastodon.green/tags/NewSpe...   \n",
      "2     <p><a href=\"https://mastodon.green/tags/NewSpe...   \n",
      "3     <p>Learn about FAIR-principled stewardship of ...   \n",
      "4     <p>On June 26th, <span class=\"h-card\"><a href=...   \n",
      "...                                                 ...   \n",
      "7155  <p>My <a href=\"https://scholar.social/tags/int...   \n",
      "7156  <p>Alright found a better home! Here's another...   \n",
      "7157  <p>At the <a href=\"https://mastodon.social/tag...   \n",
      "7158  <p>My social media philosophy...<br>- 75% work...   \n",
      "7159  <p>Hello <a href=\"https://berlin.social/tags/C...   \n",
      "\n",
      "                                          Clean_Content              0  \n",
      "0     publish your data with confidence our data pub...  Veranstaltung  \n",
      "1     newspeciesnew jumping spider from china just j...    Publikation  \n",
      "2     newspecies new freshwater mussel from north ca...    Publikation  \n",
      "3     learn about fair principled stewardship of mac...  Veranstaltung  \n",
      "4     on june th danielvanstrien machine learning li...  Veranstaltung  \n",
      "...                                                 ...            ...  \n",
      "7155  my introduction i m daniel bangert national op...            NaN  \n",
      "7156  alright found a better home here s another int...            NaN  \n",
      "7157  at the scenarioservices team at the iiasa ener...            NaN  \n",
      "7158  my social media philosophy work research on cl...            NaN  \n",
      "7159  hello chemtoots since we re doing introduction...            NaN  \n",
      "\n",
      "[7160 rows x 3 columns]\n"
     ]
    }
   ],
   "source": [
    "result2 = pd.concat([df_new, preds_df], axis=1)\n",
    "\n",
    "df_concat_string = result2.to_string(header=False, index=False, index_names=False, justify='left', col_space=1, max_colwidth=None)\n",
    "\n",
    "result_good = pd.concat([df_new, pd.Series(actual_labels)], axis=1)\n",
    "print(result_good)"
   ]
  },
  {
   "cell_type": "code",
   "execution_count": 154,
   "id": "28f41597",
   "metadata": {},
   "outputs": [],
   "source": [
    "result_good.to_csv('../results/tweets_labeled_english_only_mastodon.csv', index=False)"
   ]
  },
  {
   "cell_type": "markdown",
   "id": "6d7e25d3",
   "metadata": {},
   "source": [
    "## Merge all collected Datasets and label them "
   ]
  },
  {
   "cell_type": "code",
   "execution_count": 155,
   "id": "08662bfa",
   "metadata": {},
   "outputs": [],
   "source": [
    "df_fairdata1 = pd.read_csv('../data/mastodon/alt/python_mastodonScienceCom_toots_fairdata_01_06_23.csv')\n",
    "df_fairdata2 = pd.read_csv('../data/mastodon/alt/python_Scicommxyz_toots_fairdata.csv')\n",
    "df_fairdata3 = pd.read_csv('../data/mastodon/alt/python_mastodon_toots_fairdata_010623.csv')\n",
    "df_fairdata4 = pd.read_csv('../data/mastodon/alt/mastodon_tweets_fdm_22_04_23.csv')\n",
    "df_fairdata5 = pd.read_csv('../data/mastodon/alt/mastodon_tweets_fdm_07_04_23.csv')\n",
    "df_fairdata6 = pd.read_csv('../data/mastodon/alt/mastodon_tweets_fairdata.csv')"
   ]
  },
  {
   "cell_type": "code",
   "execution_count": null,
   "id": "237878b7",
   "metadata": {},
   "outputs": [],
   "source": [
    "concatenated_df = pd.concat([df_fairdata1, df_fairdata2, df_fairdata3, df_fairdata4, df_fairdata5, df_fairdata6])\n",
    "concatenated_df.shape"
   ]
  },
  {
   "cell_type": "code",
   "execution_count": null,
   "id": "ebfe86d0",
   "metadata": {},
   "outputs": [],
   "source": [
    "concatenated_df.head(10)"
   ]
  },
  {
   "cell_type": "code",
   "execution_count": null,
   "id": "957846f5",
   "metadata": {},
   "outputs": [],
   "source": [
    "newdf_fairdata = concatenated_df.loc[:,['content']]"
   ]
  },
  {
   "cell_type": "code",
   "execution_count": null,
   "id": "ee38d942",
   "metadata": {},
   "outputs": [],
   "source": [
    "newdf_fairdata['Clean_Content'] = newdf_fairdata['content'].apply(pre_process)\n",
    "newdf_fairdata.shape"
   ]
  },
  {
   "cell_type": "code",
   "execution_count": null,
   "id": "ada95add",
   "metadata": {},
   "outputs": [],
   "source": [
    "newdf_fairdata = filter_non_english_tweets(newdf_fairdata, lang='en')\n",
    "newdf_fairdata.shape"
   ]
  },
  {
   "cell_type": "code",
   "execution_count": null,
   "id": "bfb4ca04",
   "metadata": {},
   "outputs": [],
   "source": [
    "bert = newdf_fairdata.loc[:,['Clean_Content']]"
   ]
  },
  {
   "cell_type": "code",
   "execution_count": null,
   "id": "41e9adac",
   "metadata": {},
   "outputs": [],
   "source": [
    "test_dataset = bert.reset_index(drop=True)\n",
    "test_set = PredictionDataset(test_dataset, tokenizer, max_len)\n",
    "testing_loader = DataLoader(test_set, batch_size=100)"
   ]
  },
  {
   "cell_type": "code",
   "execution_count": null,
   "id": "1358df34",
   "metadata": {},
   "outputs": [],
   "source": []
  },
  {
   "cell_type": "code",
   "execution_count": null,
   "id": "a66542a9",
   "metadata": {},
   "outputs": [],
   "source": [
    "# Concatenate the predictions with the test dataset\n",
    "pred_outputs = do_prediction(testing_loader)\n",
    "pred_outputs = (np.array(pred_outputs) >= 0.5).astype(int)\n",
    "preds_df = pd.DataFrame(pred_outputs, columns =['Meinung', 'Publikation', 'Veranstaltung'])\n",
    "#print(bert.index)\n",
    "preds_df = preds_df.reset_index(drop=True)\n",
    "bert = bert.reset_index(drop=True)\n",
    "df_concat = pd.concat([bert, preds_df], axis=1)\n",
    "\n",
    "print(preds_df)"
   ]
  },
  {
   "cell_type": "code",
   "execution_count": null,
   "id": "8030b11d",
   "metadata": {},
   "outputs": [],
   "source": []
  },
  {
   "cell_type": "code",
   "execution_count": null,
   "id": "4f9dac5e",
   "metadata": {},
   "outputs": [],
   "source": [
    "result2 = pd.concat([test_dataset['Clean_Content'], preds_df], axis=1)\n",
    "\n",
    "print(result2)"
   ]
  },
  {
   "cell_type": "code",
   "execution_count": null,
   "id": "d51c0c3f",
   "metadata": {},
   "outputs": [],
   "source": [
    "actual = np.array(preds_df)\n",
    "actual_idx = np.argmax(actual, axis=1)\n",
    "target_list = ['Meinung','Publikation', 'Veranstaltung']\n",
    "\n",
    "actual_labels = [target_list[idx] for idx in actual_idx]"
   ]
  },
  {
   "cell_type": "code",
   "execution_count": null,
   "id": "2b85c691",
   "metadata": {},
   "outputs": [],
   "source": [
    "result2 = pd.concat([test_dataset['Clean_Content'], preds_df], axis=1)\n",
    "\n",
    "df_concat_string = result2.to_string(header=False, index=False, index_names=False, justify='left', col_space=1, max_colwidth=None)\n",
    "\n",
    "result_good = pd.concat([test_dataset['Clean_Content'], pd.Series(actual_labels)], axis=1)\n",
    "print(result_good)"
   ]
  },
  {
   "cell_type": "code",
   "execution_count": 156,
   "id": "acf92691",
   "metadata": {},
   "outputs": [],
   "source": [
    "result_good.to_csv('../results/tweets_labeled_english_only_mastodon_rest.csv', index=False)"
   ]
  },
  {
   "cell_type": "code",
   "execution_count": null,
   "id": "c184167b",
   "metadata": {},
   "outputs": [],
   "source": []
  }
 ],
 "metadata": {
  "kernelspec": {
   "display_name": "Python 3 (ipykernel)",
   "language": "python",
   "name": "python3"
  },
  "language_info": {
   "codemirror_mode": {
    "name": "ipython",
    "version": 3
   },
   "file_extension": ".py",
   "mimetype": "text/x-python",
   "name": "python",
   "nbconvert_exporter": "python",
   "pygments_lexer": "ipython3",
   "version": "3.10.9"
  }
 },
 "nbformat": 4,
 "nbformat_minor": 5
}
