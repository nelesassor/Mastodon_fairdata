{
 "cells": [
  {
   "cell_type": "markdown",
   "id": "d7255b53",
   "metadata": {},
   "source": [
    "## Analyse von Twitterdatenset"
   ]
  },
  {
   "cell_type": "code",
   "execution_count": 2,
   "id": "95312a27",
   "metadata": {},
   "outputs": [
    {
     "name": "stderr",
     "output_type": "stream",
     "text": [
      "/Users/nelesassor/opt/anaconda3/lib/python3.9/site-packages/scipy/__init__.py:146: UserWarning: A NumPy version >=1.16.5 and <1.23.0 is required for this version of SciPy (detected version 1.24.3\n",
      "  warnings.warn(f\"A NumPy version >={np_minversion} and <{np_maxversion}\"\n"
     ]
    }
   ],
   "source": [
    "import pandas as pd\n",
    "import sklearn\n",
    "import matplotlib\n",
    "import numpy as np\n",
    "import scipy\n",
    "import os \n",
    "from pandas import read_csv\n",
    "      \n",
    "            \n",
    "# Daten einlesen            \n",
    "df = pd.read_csv('../data/Twitter/twitterdata.csv', sep=',', index_col=False, dtype='unicode')"
   ]
  },
  {
   "cell_type": "code",
   "execution_count": 3,
   "id": "4b7531f8",
   "metadata": {},
   "outputs": [
    {
     "name": "stdout",
     "output_type": "stream",
     "text": [
      "       conversation_id                created_at favorite_count  \\\n",
      "0  1630941370302054401  2023-03-01T14:41:38.000Z              4   \n",
      "1  1630938442312949761  2023-03-01T14:30:00.000Z              0   \n",
      "2  1630932667238690816  2023-03-01T14:07:03.000Z              2   \n",
      "3  1630923950078173185  2023-03-01T13:32:25.000Z              4   \n",
      "4  1630915805386002432  2023-03-01T13:00:03.000Z              3   \n",
      "\n",
      "                                           full_text  hashtags/0  \\\n",
      "0  Heute starten die @ESciTage 2023 in #Heidelber...  Heidelberg   \n",
      "1  The #WorldFAIR case study on Population Health...   WorldFAIR   \n",
      "2  What does the data discoverability landscape l...    FAIRdata   \n",
      "3  CODATA Statement on the February 2023 Earthqua...      codata   \n",
      "4  #NewDataset \\nCetaceans in #TyrrhenianSea #Ion...  NewDataset   \n",
      "\n",
      "      hashtags/1   hashtags/2   hashtags/3      hashtags/4   hashtags/5  ...  \\\n",
      "0           ZPID     escitage          FDM        opendata  openscience  ...   \n",
      "1       FAIRdata  OpenScience          NaN             NaN          NaN  ...   \n",
      "2            NaN          NaN          NaN             NaN          NaN  ...   \n",
      "3       FAIRdata  OpenScience  datascience        opendata          NaN  ...   \n",
      "4  TyrrhenianSea    IonianSea         taxa  citizenscience     FAIRdata  ...   \n",
      "\n",
      "  user_mentions/47/id_str user_mentions/47/name user_mentions/47/screen_name  \\\n",
      "0                     NaN                   NaN                          NaN   \n",
      "1                     NaN                   NaN                          NaN   \n",
      "2                     NaN                   NaN                          NaN   \n",
      "3                     NaN                   NaN                          NaN   \n",
      "4                     NaN                   NaN                          NaN   \n",
      "\n",
      "  user_mentions/48/id_str user_mentions/48/name user_mentions/48/screen_name  \\\n",
      "0                     NaN                   NaN                          NaN   \n",
      "1                     NaN                   NaN                          NaN   \n",
      "2                     NaN                   NaN                          NaN   \n",
      "3                     NaN                   NaN                          NaN   \n",
      "4                     NaN                   NaN                          NaN   \n",
      "\n",
      "  user_mentions/49/id_str user_mentions/49/name user_mentions/49/screen_name  \\\n",
      "0                     NaN                   NaN                          NaN   \n",
      "1                     NaN                   NaN                          NaN   \n",
      "2                     NaN                   NaN                          NaN   \n",
      "3                     NaN                   NaN                          NaN   \n",
      "4                     NaN                   NaN                          NaN   \n",
      "\n",
      "  view_count  \n",
      "0        162  \n",
      "1         61  \n",
      "2        189  \n",
      "3        267  \n",
      "4         69  \n",
      "\n",
      "[5 rows x 261 columns]\n",
      "(4000, 261)\n"
     ]
    }
   ],
   "source": [
    "daten = pd.DataFrame(df)\n",
    "daten_string = daten \n",
    "# Data exploration\n",
    "\n",
    "print(daten.head())\n",
    "\n",
    "print(daten.shape)\n",
    "#daten.describe()"
   ]
  },
  {
   "cell_type": "markdown",
   "id": "c6f1f343",
   "metadata": {},
   "source": [
    "## Analyse der verwendeten Hashtags bei #Fairdata posts"
   ]
  },
  {
   "cell_type": "code",
   "execution_count": 4,
   "id": "3f297c9c",
   "metadata": {
    "scrolled": true
   },
   "outputs": [
    {
     "name": "stdout",
     "output_type": "stream",
     "text": [
      "0       Heidelberg\n",
      "1        WorldFAIR\n",
      "2         FAIRdata\n",
      "3           codata\n",
      "4       NewDataset\n",
      "           ...    \n",
      "3995           NaN\n",
      "3996           NaN\n",
      "3997           NaN\n",
      "3998           NaN\n",
      "3999          taxa\n",
      "Length: 20000, dtype: object\n",
      "FAIRdata                   1603\n",
      "OpenScience                 427\n",
      "FAIR                        382\n",
      "NewSpecies                  258\n",
      "FAIRData                    196\n",
      "                           ... \n",
      "materialsscience              1\n",
      "DigitalSpecimen               1\n",
      "digitalextendedspecimen       1\n",
      "bestPractice                  1\n",
      "CatenaX                       1\n",
      "Length: 2227, dtype: int64\n"
     ]
    }
   ],
   "source": [
    "daten['hashtags/0'].nunique()\n",
    "daten['hashtags/1'].nunique()\n",
    "daten['hashtags/2'].nunique()\n",
    "daten['hashtags/3'].nunique()\n",
    "daten['hashtags/4'].nunique()\n",
    "\n",
    "#print(pd.unique(daten[['hashtags/0']].values))\n",
    "df2 = daten[['hashtags/0', 'hashtags/1','hashtags/2', 'hashtags/3', 'hashtags/4' ]].copy()\n",
    "neuer_df = pd.DataFrame(daten['hashtags/0'])\n",
    "neuer_df2 = pd.DataFrame(daten['hashtags/1'])\n",
    "neue_spalte = pd.concat([daten['hashtags/0'], daten['hashtags/1'], daten['hashtags/2'], daten['hashtags/3'], daten['hashtags/4']], axis=0)\n",
    "neue_spalte.to_csv('../data/hashtags/hashtagsMerged.csv')\n",
    "\n",
    "print(neue_spalte)\n",
    "\n",
    "countsALL = neue_spalte.value_counts()\n",
    "print(countsALL)\n",
    "countsALL.to_csv('../data/hashtags/hashtag_countALL.csv')\n"
   ]
  },
  {
   "cell_type": "code",
   "execution_count": 5,
   "id": "4256cd57",
   "metadata": {},
   "outputs": [
    {
     "name": "stdout",
     "output_type": "stream",
     "text": [
      "             hashtags/0\n",
      "0            Heidelberg\n",
      "1             WorldFAIR\n",
      "2              FAIRdata\n",
      "3                codata\n",
      "4            NewDataset\n",
      "...                 ...\n",
      "3995                NaN\n",
      "3996           FAIRdata\n",
      "3997       OpenResearch\n",
      "3998  CurrencyGradeData\n",
      "3999         NewDataset\n",
      "\n",
      "[4000 rows x 1 columns]\n"
     ]
    }
   ],
   "source": [
    "hashtag = df2['hashtags/0']\n",
    "hashtag = pd.DataFrame(df2['hashtags/0'])\n",
    "\n",
    "print(hashtag)"
   ]
  },
  {
   "cell_type": "code",
   "execution_count": 6,
   "id": "a3455857",
   "metadata": {
    "scrolled": false
   },
   "outputs": [],
   "source": [
    "hashtag1 = df2['hashtags/1']\n",
    "hashtag1 = pd.DataFrame(df2['hashtags/1'])\n"
   ]
  },
  {
   "cell_type": "code",
   "execution_count": 7,
   "id": "0ad2bab3",
   "metadata": {
    "scrolled": true
   },
   "outputs": [],
   "source": [
    "hashtagf2 = ['hashtags/2']\n",
    "hashtag2 = pd.DataFrame(df2['hashtags/2'])\n"
   ]
  },
  {
   "cell_type": "code",
   "execution_count": 8,
   "id": "d09cc52a",
   "metadata": {
    "scrolled": true
   },
   "outputs": [
    {
     "name": "stdout",
     "output_type": "stream",
     "text": [
      "      hashtags/0 hashtags/1 hashtags/2 hashtags/4\n",
      "0     Heidelberg        NaN        NaN        NaN\n",
      "1      WorldFAIR        NaN        NaN        NaN\n",
      "2       FAIRdata        NaN        NaN        NaN\n",
      "3         codata        NaN        NaN        NaN\n",
      "4     NewDataset        NaN        NaN        NaN\n",
      "...          ...        ...        ...        ...\n",
      "3995         NaN        NaN        NaN        NaN\n",
      "3996         NaN        NaN        NaN        NaN\n",
      "3997         NaN        NaN        NaN        NaN\n",
      "3998         NaN        NaN        NaN        NaN\n",
      "3999         NaN        NaN        NaN       taxa\n",
      "\n",
      "[16000 rows x 4 columns]\n",
      "     hashtags/0 hashtags/1 hashtags/2 hashtags/4\n",
      "3995        NaN        NaN        NaN        NaN\n",
      "3996        NaN        NaN        NaN        NaN\n",
      "3997        NaN        NaN        NaN        NaN\n",
      "3998        NaN        NaN        NaN        NaN\n",
      "3999        NaN        NaN        NaN       taxa\n",
      "hashtags/0\n",
      "1255PalmRidge                                        1\n",
      "1Patient1Record4Belgium                              1\n",
      "2022Highlights                                       1\n",
      "3ddata                                               1\n",
      "A2CPS                                                1\n",
      "                                                    ..\n",
      "worldheritage                                        1\n",
      "worthreading                                         1\n",
      "xxviencuentrointernacionalinvestigacionencuidados    1\n",
      "zorg                                                 1\n",
      "𝐝𝐚𝐭𝐚𝐦𝐚𝐧𝐚𝐠𝐞𝐦𝐞𝐧𝐭                                       1\n",
      "Length: 949, dtype: int64\n",
      "FAIRdata             410\n",
      "NewSpecies           255\n",
      "FAIR                 154\n",
      "OpenScience           79\n",
      "FAIRData              73\n",
      "                    ... \n",
      "EGW2022                1\n",
      "datiBeneComune         1\n",
      "seasnails              1\n",
      "Semantic               1\n",
      "CurrencyGradeData      1\n",
      "Name: hashtags/0, Length: 949, dtype: int64\n"
     ]
    }
   ],
   "source": [
    "hashtag4 = df2['hashtags/4']\n",
    "hashtag4 = pd.DataFrame(df2['hashtags/4'])\n",
    "pd.set_option(\"display.max_rows\", 100)\n",
    "\n",
    "hashtag_data = pd.concat([hashtag, hashtag1, hashtag2, hashtag4], axis=0)\n",
    "df3 = pd.DataFrame(hashtag_data)\n",
    "#hashtag_data_clean = hashtag_data.drop(columns=['hashtags/1', 'hashtags/2', 'hashtags/4'])\n",
    "\n",
    "print(df3)\n",
    "print(df3.tail())\n",
    "df3['hashtags/0'].nunique()\n",
    "\n",
    "df4 = df3.pivot_table(index = ['hashtags/0'], aggfunc ='size')\n",
    "print(df4)\n",
    "\n",
    "counts = df3['hashtags/0'].value_counts()\n",
    "print(counts)\n",
    "counts.to_csv('../data/hashtags/hashtag_count.csv')\n"
   ]
  },
  {
   "cell_type": "code",
   "execution_count": 9,
   "id": "61e63b9b",
   "metadata": {},
   "outputs": [
    {
     "data": {
      "text/plain": [
       "['FAIRdata',\n",
       " 'NewSpecies',\n",
       " 'FAIR',\n",
       " 'OpenScience',\n",
       " 'FAIRData',\n",
       " 'codata',\n",
       " 'EOSC',\n",
       " 'DataValues',\n",
       " 'data',\n",
       " 'FDO2022']"
      ]
     },
     "execution_count": 9,
     "metadata": {},
     "output_type": "execute_result"
    }
   ],
   "source": [
    "n = 10\n",
    "df2['hashtags/0'].value_counts()[:n].index.tolist()"
   ]
  },
  {
   "cell_type": "code",
   "execution_count": 10,
   "id": "9dc233b1",
   "metadata": {},
   "outputs": [
    {
     "data": {
      "text/plain": [
       "['FAIRdata',\n",
       " 'FAIR',\n",
       " 'OpenScience',\n",
       " 'data',\n",
       " 'OpenData',\n",
       " 'FAIRData',\n",
       " 'fairdata',\n",
       " 'Treatment',\n",
       " 'openscience',\n",
       " 'EOSC']"
      ]
     },
     "execution_count": 10,
     "metadata": {},
     "output_type": "execute_result"
    }
   ],
   "source": [
    "n = 10\n",
    "df2['hashtags/1'].value_counts()[:n].index.tolist()"
   ]
  },
  {
   "cell_type": "code",
   "execution_count": 11,
   "id": "ae1aaa19",
   "metadata": {},
   "outputs": [
    {
     "data": {
      "text/plain": [
       "['FAIRdata',\n",
       " 'OpenScience',\n",
       " 'FAIR',\n",
       " 'nature',\n",
       " 'FAIRData',\n",
       " 'opendata',\n",
       " 'fairdata',\n",
       " 'OpenData',\n",
       " 'Biodiversity',\n",
       " 'EOSC']"
      ]
     },
     "execution_count": 11,
     "metadata": {},
     "output_type": "execute_result"
    }
   ],
   "source": [
    "n = 10\n",
    "df2['hashtags/2'].value_counts()[:n].index.tolist()"
   ]
  },
  {
   "cell_type": "code",
   "execution_count": 12,
   "id": "a1df4eb5",
   "metadata": {},
   "outputs": [
    {
     "data": {
      "text/plain": [
       "['FAIRdata',\n",
       " 'OpenScience',\n",
       " 'datascience',\n",
       " 'Biodiversity',\n",
       " 'conservation',\n",
       " 'biodiversity',\n",
       " 'FAIR',\n",
       " 'Nature',\n",
       " 'nature',\n",
       " 'data']"
      ]
     },
     "execution_count": 12,
     "metadata": {},
     "output_type": "execute_result"
    }
   ],
   "source": [
    "n = 10\n",
    "df2['hashtags/3'].value_counts()[:n].index.tolist()"
   ]
  },
  {
   "cell_type": "code",
   "execution_count": 13,
   "id": "3f6c678e",
   "metadata": {},
   "outputs": [
    {
     "data": {
      "text/plain": [
       "['FAIRdata',\n",
       " 'opendata',\n",
       " 'conservation',\n",
       " 'Conservation',\n",
       " 'OpenScience',\n",
       " 'FAIRData',\n",
       " 'OpenData',\n",
       " 'DataScience',\n",
       " 'Biodiversity',\n",
       " 'biodiversity']"
      ]
     },
     "execution_count": 13,
     "metadata": {},
     "output_type": "execute_result"
    }
   ],
   "source": [
    "n = 10\n",
    "df2['hashtags/4'].value_counts()[:n].index.tolist()"
   ]
  },
  {
   "cell_type": "code",
   "execution_count": 14,
   "id": "6aad78c1",
   "metadata": {},
   "outputs": [
    {
     "name": "stdout",
     "output_type": "stream",
     "text": [
      "       Hashtag  Count\n",
      "0     FAIRdata   1603\n",
      "1  OpenScience    427\n",
      "2         FAIR    382\n",
      "3   NewSpecies    258\n",
      "4     FAIRData    196\n",
      "5     opendata    157\n",
      "6         data    151\n",
      "7     OpenData    141\n",
      "8         EOSC    137\n",
      "9     fairdata    129\n"
     ]
    }
   ],
   "source": [
    "# To change the column names, you can do:\n",
    "countsALL = [('FAIRdata', 1603), ('OpenScience', 427), ('FAIR', 382), ('NewSpecies', 258), \n",
    "             ('FAIRData', 196), ('opendata', 157), ('data', 151), ('OpenData', 141), \n",
    "             ('EOSC', 137), ('fairdata', 129)]\n",
    "df = pd.DataFrame(countsALL, columns=['Hashtag', 'Count'])\n",
    "print(df.head(10))"
   ]
  },
  {
   "cell_type": "markdown",
   "id": "0689395e",
   "metadata": {},
   "source": [
    "## Visualisierung"
   ]
  },
  {
   "cell_type": "code",
   "execution_count": 15,
   "id": "8bf19aa6",
   "metadata": {},
   "outputs": [
    {
     "data": {
      "image/png": "[encoded data removed]",
      "text/plain": [
       "<Figure size 1000x600 with 1 Axes>"
      ]
     },
     "metadata": {},
     "output_type": "display_data"
    }
   ],
   "source": [
    "import matplotlib.pyplot as plt\n",
    "import seaborn as sns\n",
    "\n",
    "countsALL = df.sort_values('Count', ascending=False)\n",
    "\n",
    "plt.figure(figsize=(10,6))\n",
    "sns.barplot(x='Count', y='Hashtag', data=df, color='steelblue')\n",
    "plt.xlabel('Anzahl')\n",
    "plt.ylabel('Hashtag')\n",
    "plt.title('Hashtag Verteilung')\n",
    "plt.savefig('../results/hashtag_verteilung')\n",
    "plt.show()"
   ]
  },
  {
   "cell_type": "code",
   "execution_count": 16,
   "id": "3617b316",
   "metadata": {},
   "outputs": [
    {
     "data": {
      "image/png": "[encoded data removed]",
      "text/plain": [
       "<Figure size 1000x600 with 1 Axes>"
      ]
     },
     "metadata": {},
     "output_type": "display_data"
    }
   ],
   "source": [
    "import matplotlib.pyplot as plt\n",
    "\n",
    "countsALL = df.sort_values('Count', ascending=False)\n",
    "\n",
    "plt.figure(figsize=(10,6))\n",
    "plt.barh(countsALL['Hashtag'], countsALL['Count'], color='steelblue')\n",
    "plt.xlabel('Anzahl')\n",
    "plt.ylabel('Hashtag')\n",
    "plt.title('Hashtag Verteilung')\n",
    "plt.savefig('../results/hashtag_verteilung')\n",
    "plt.show()"
   ]
  },
  {
   "cell_type": "code",
   "execution_count": null,
   "id": "020a78ac",
   "metadata": {},
   "outputs": [],
   "source": []
  }
 ],
 "metadata": {
  "kernelspec": {
   "display_name": "Python 3 (ipykernel)",
   "language": "python",
   "name": "python3"
  },
  "language_info": {
   "codemirror_mode": {
    "name": "ipython",
    "version": 3
   },
   "file_extension": ".py",
   "mimetype": "text/x-python",
   "name": "python",
   "nbconvert_exporter": "python",
   "pygments_lexer": "ipython3",
   "version": "3.9.16"
  }
 },
 "nbformat": 4,
 "nbformat_minor": 5
}
